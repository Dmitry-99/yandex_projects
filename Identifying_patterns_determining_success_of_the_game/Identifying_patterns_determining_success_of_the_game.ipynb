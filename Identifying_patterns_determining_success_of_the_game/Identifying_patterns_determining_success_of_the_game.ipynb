{
 "cells": [
  {
   "cell_type": "markdown",
   "metadata": {},
   "source": [
    "## Сборный проект"
   ]
  },
  {
   "cell_type": "markdown",
   "metadata": {},
   "source": [
    "### Навигация по проекту\n",
    "1. [Изучение общей информации](#section1)\n",
    "2. [Подготовка данных](#section2)\n",
    "3. [Анализ данных](#section3)\n",
    "    - [Исследование платформ](#section3.1)\n",
    "    - [Исследование оценок пользователей и критиков](#section3.2)\n",
    "    - [Исследование жанров](#section3.3)\n",
    "    - [Выручка](#section3.4)\n",
    "    - [Вывод](#section3.5)\n",
    "4. [\"Портрет\" пользователя каждого региона](#section4)\n",
    "5. [Проверка гипотез](#section5)\n",
    "    - [Гипотеза №1](#section5.1)\n",
    "    - [Гипотеза №2](#section5.2)\n",
    "5. [Общий вывод](#section6)"
   ]
  },
  {
   "cell_type": "markdown",
   "metadata": {},
   "source": [
    "### Импортируем необходимые модули"
   ]
  },
  {
   "cell_type": "code",
   "execution_count": 1,
   "metadata": {},
   "outputs": [],
   "source": [
    "import warnings\n",
    "warnings.filterwarnings('ignore')\n",
    "\n",
    "import pandas as pd\n",
    "from matplotlib import pyplot as plt\n",
    "import numpy as np\n",
    "import seaborn as sns\n",
    "from scipy import stats as st\n",
    "import math"
   ]
  },
  {
   "cell_type": "markdown",
   "metadata": {},
   "source": [
    "<a id='section1'></a>\n",
    "### Откроем данные и изучим общую информацию"
   ]
  },
  {
   "cell_type": "code",
   "execution_count": 2,
   "metadata": {},
   "outputs": [
    {
     "data": {
      "text/html": [
       "<div>\n",
       "<style scoped>\n",
       "    .dataframe tbody tr th:only-of-type {\n",
       "        vertical-align: middle;\n",
       "    }\n",
       "\n",
       "    .dataframe tbody tr th {\n",
       "        vertical-align: top;\n",
       "    }\n",
       "\n",
       "    .dataframe thead th {\n",
       "        text-align: right;\n",
       "    }\n",
       "</style>\n",
       "<table border=\"1\" class=\"dataframe\">\n",
       "  <thead>\n",
       "    <tr style=\"text-align: right;\">\n",
       "      <th></th>\n",
       "      <th>Name</th>\n",
       "      <th>Platform</th>\n",
       "      <th>Year_of_Release</th>\n",
       "      <th>Genre</th>\n",
       "      <th>NA_sales</th>\n",
       "      <th>EU_sales</th>\n",
       "      <th>JP_sales</th>\n",
       "      <th>Other_sales</th>\n",
       "      <th>Critic_Score</th>\n",
       "      <th>User_Score</th>\n",
       "      <th>Rating</th>\n",
       "    </tr>\n",
       "  </thead>\n",
       "  <tbody>\n",
       "    <tr>\n",
       "      <td>0</td>\n",
       "      <td>Wii Sports</td>\n",
       "      <td>Wii</td>\n",
       "      <td>2006.0</td>\n",
       "      <td>Sports</td>\n",
       "      <td>41.36</td>\n",
       "      <td>28.96</td>\n",
       "      <td>3.77</td>\n",
       "      <td>8.45</td>\n",
       "      <td>76.0</td>\n",
       "      <td>8</td>\n",
       "      <td>E</td>\n",
       "    </tr>\n",
       "    <tr>\n",
       "      <td>1</td>\n",
       "      <td>Super Mario Bros.</td>\n",
       "      <td>NES</td>\n",
       "      <td>1985.0</td>\n",
       "      <td>Platform</td>\n",
       "      <td>29.08</td>\n",
       "      <td>3.58</td>\n",
       "      <td>6.81</td>\n",
       "      <td>0.77</td>\n",
       "      <td>NaN</td>\n",
       "      <td>NaN</td>\n",
       "      <td>NaN</td>\n",
       "    </tr>\n",
       "    <tr>\n",
       "      <td>2</td>\n",
       "      <td>Mario Kart Wii</td>\n",
       "      <td>Wii</td>\n",
       "      <td>2008.0</td>\n",
       "      <td>Racing</td>\n",
       "      <td>15.68</td>\n",
       "      <td>12.76</td>\n",
       "      <td>3.79</td>\n",
       "      <td>3.29</td>\n",
       "      <td>82.0</td>\n",
       "      <td>8.3</td>\n",
       "      <td>E</td>\n",
       "    </tr>\n",
       "    <tr>\n",
       "      <td>3</td>\n",
       "      <td>Wii Sports Resort</td>\n",
       "      <td>Wii</td>\n",
       "      <td>2009.0</td>\n",
       "      <td>Sports</td>\n",
       "      <td>15.61</td>\n",
       "      <td>10.93</td>\n",
       "      <td>3.28</td>\n",
       "      <td>2.95</td>\n",
       "      <td>80.0</td>\n",
       "      <td>8</td>\n",
       "      <td>E</td>\n",
       "    </tr>\n",
       "    <tr>\n",
       "      <td>4</td>\n",
       "      <td>Pokemon Red/Pokemon Blue</td>\n",
       "      <td>GB</td>\n",
       "      <td>1996.0</td>\n",
       "      <td>Role-Playing</td>\n",
       "      <td>11.27</td>\n",
       "      <td>8.89</td>\n",
       "      <td>10.22</td>\n",
       "      <td>1.00</td>\n",
       "      <td>NaN</td>\n",
       "      <td>NaN</td>\n",
       "      <td>NaN</td>\n",
       "    </tr>\n",
       "  </tbody>\n",
       "</table>\n",
       "</div>"
      ],
      "text/plain": [
       "                       Name Platform  Year_of_Release         Genre  NA_sales  \\\n",
       "0                Wii Sports      Wii           2006.0        Sports     41.36   \n",
       "1         Super Mario Bros.      NES           1985.0      Platform     29.08   \n",
       "2            Mario Kart Wii      Wii           2008.0        Racing     15.68   \n",
       "3         Wii Sports Resort      Wii           2009.0        Sports     15.61   \n",
       "4  Pokemon Red/Pokemon Blue       GB           1996.0  Role-Playing     11.27   \n",
       "\n",
       "   EU_sales  JP_sales  Other_sales  Critic_Score User_Score Rating  \n",
       "0     28.96      3.77         8.45          76.0          8      E  \n",
       "1      3.58      6.81         0.77           NaN        NaN    NaN  \n",
       "2     12.76      3.79         3.29          82.0        8.3      E  \n",
       "3     10.93      3.28         2.95          80.0          8      E  \n",
       "4      8.89     10.22         1.00           NaN        NaN    NaN  "
      ]
     },
     "execution_count": 2,
     "metadata": {},
     "output_type": "execute_result"
    }
   ],
   "source": [
    "games = pd.read_csv('/datasets/games.csv')\n",
    "games.head()"
   ]
  },
  {
   "cell_type": "code",
   "execution_count": 3,
   "metadata": {
    "scrolled": true
   },
   "outputs": [
    {
     "name": "stdout",
     "output_type": "stream",
     "text": [
      "<class 'pandas.core.frame.DataFrame'>\n",
      "RangeIndex: 16715 entries, 0 to 16714\n",
      "Data columns (total 11 columns):\n",
      "Name               16713 non-null object\n",
      "Platform           16715 non-null object\n",
      "Year_of_Release    16446 non-null float64\n",
      "Genre              16713 non-null object\n",
      "NA_sales           16715 non-null float64\n",
      "EU_sales           16715 non-null float64\n",
      "JP_sales           16715 non-null float64\n",
      "Other_sales        16715 non-null float64\n",
      "Critic_Score       8137 non-null float64\n",
      "User_Score         10014 non-null object\n",
      "Rating             9949 non-null object\n",
      "dtypes: float64(6), object(5)\n",
      "memory usage: 1.4+ MB\n"
     ]
    }
   ],
   "source": [
    "games.info()"
   ]
  },
  {
   "cell_type": "code",
   "execution_count": 4,
   "metadata": {
    "scrolled": true
   },
   "outputs": [
    {
     "data": {
      "text/html": [
       "<div>\n",
       "<style scoped>\n",
       "    .dataframe tbody tr th:only-of-type {\n",
       "        vertical-align: middle;\n",
       "    }\n",
       "\n",
       "    .dataframe tbody tr th {\n",
       "        vertical-align: top;\n",
       "    }\n",
       "\n",
       "    .dataframe thead th {\n",
       "        text-align: right;\n",
       "    }\n",
       "</style>\n",
       "<table border=\"1\" class=\"dataframe\">\n",
       "  <thead>\n",
       "    <tr style=\"text-align: right;\">\n",
       "      <th></th>\n",
       "      <th>Total missing values</th>\n",
       "      <th>Percent %</th>\n",
       "      <th>dtype</th>\n",
       "    </tr>\n",
       "  </thead>\n",
       "  <tbody>\n",
       "    <tr>\n",
       "      <td>Critic_Score</td>\n",
       "      <td>8578</td>\n",
       "      <td>0.513192</td>\n",
       "      <td>float64</td>\n",
       "    </tr>\n",
       "    <tr>\n",
       "      <td>Rating</td>\n",
       "      <td>6766</td>\n",
       "      <td>0.404786</td>\n",
       "      <td>object</td>\n",
       "    </tr>\n",
       "    <tr>\n",
       "      <td>User_Score</td>\n",
       "      <td>6701</td>\n",
       "      <td>0.400897</td>\n",
       "      <td>object</td>\n",
       "    </tr>\n",
       "    <tr>\n",
       "      <td>Year_of_Release</td>\n",
       "      <td>269</td>\n",
       "      <td>0.016093</td>\n",
       "      <td>float64</td>\n",
       "    </tr>\n",
       "    <tr>\n",
       "      <td>Genre</td>\n",
       "      <td>2</td>\n",
       "      <td>0.000120</td>\n",
       "      <td>object</td>\n",
       "    </tr>\n",
       "    <tr>\n",
       "      <td>Name</td>\n",
       "      <td>2</td>\n",
       "      <td>0.000120</td>\n",
       "      <td>object</td>\n",
       "    </tr>\n",
       "    <tr>\n",
       "      <td>Other_sales</td>\n",
       "      <td>0</td>\n",
       "      <td>0.000000</td>\n",
       "      <td>float64</td>\n",
       "    </tr>\n",
       "    <tr>\n",
       "      <td>JP_sales</td>\n",
       "      <td>0</td>\n",
       "      <td>0.000000</td>\n",
       "      <td>float64</td>\n",
       "    </tr>\n",
       "    <tr>\n",
       "      <td>EU_sales</td>\n",
       "      <td>0</td>\n",
       "      <td>0.000000</td>\n",
       "      <td>float64</td>\n",
       "    </tr>\n",
       "    <tr>\n",
       "      <td>NA_sales</td>\n",
       "      <td>0</td>\n",
       "      <td>0.000000</td>\n",
       "      <td>float64</td>\n",
       "    </tr>\n",
       "    <tr>\n",
       "      <td>Platform</td>\n",
       "      <td>0</td>\n",
       "      <td>0.000000</td>\n",
       "      <td>object</td>\n",
       "    </tr>\n",
       "  </tbody>\n",
       "</table>\n",
       "</div>"
      ],
      "text/plain": [
       "                 Total missing values  Percent %    dtype\n",
       "Critic_Score                     8578   0.513192  float64\n",
       "Rating                           6766   0.404786   object\n",
       "User_Score                       6701   0.400897   object\n",
       "Year_of_Release                   269   0.016093  float64\n",
       "Genre                               2   0.000120   object\n",
       "Name                                2   0.000120   object\n",
       "Other_sales                         0   0.000000  float64\n",
       "JP_sales                            0   0.000000  float64\n",
       "EU_sales                            0   0.000000  float64\n",
       "NA_sales                            0   0.000000  float64\n",
       "Platform                            0   0.000000   object"
      ]
     },
     "execution_count": 4,
     "metadata": {},
     "output_type": "execute_result"
    }
   ],
   "source": [
    "# посмотрим на количество пропусков\n",
    "total = games.isnull().sum().sort_values(ascending=False) # переменная total, содержащая количество пропусков для каждого признака\n",
    "percent = (games.isnull().sum() / games.isnull().count()).sort_values(ascending=False) # доля пропусков для каждого признака\n",
    "missing_data = pd.concat([total, percent], axis = 1, keys = ['Total missing values', 'Percent %'])\n",
    "missing_data['dtype'] = games.dtypes\n",
    "missing_data"
   ]
  },
  {
   "cell_type": "code",
   "execution_count": 5,
   "metadata": {},
   "outputs": [
    {
     "data": {
      "text/plain": [
       "0"
      ]
     },
     "execution_count": 5,
     "metadata": {},
     "output_type": "execute_result"
    }
   ],
   "source": [
    "# посмотрим на количество дубликатов в данных\n",
    "games.duplicated().sum()"
   ]
  },
  {
   "cell_type": "code",
   "execution_count": 6,
   "metadata": {},
   "outputs": [
    {
     "data": {
      "text/plain": [
       "(11560,)"
      ]
     },
     "execution_count": 6,
     "metadata": {},
     "output_type": "execute_result"
    }
   ],
   "source": [
    "games['Name'].unique().shape"
   ]
  },
  {
   "cell_type": "code",
   "execution_count": 7,
   "metadata": {},
   "outputs": [
    {
     "data": {
      "text/plain": [
       "E       3990\n",
       "T       2961\n",
       "M       1563\n",
       "E10+    1420\n",
       "EC         8\n",
       "K-A        3\n",
       "RP         3\n",
       "AO         1\n",
       "Name: Rating, dtype: int64"
      ]
     },
     "execution_count": 7,
     "metadata": {},
     "output_type": "execute_result"
    }
   ],
   "source": [
    "# посмотрим на количество значений у некоторых признаков\n",
    "games['Rating'].value_counts()"
   ]
  },
  {
   "cell_type": "code",
   "execution_count": 8,
   "metadata": {},
   "outputs": [
    {
     "data": {
      "text/plain": [
       "Action          3369\n",
       "Sports          2348\n",
       "Misc            1750\n",
       "Role-Playing    1498\n",
       "Shooter         1323\n",
       "Adventure       1303\n",
       "Racing          1249\n",
       "Platform         888\n",
       "Simulation       873\n",
       "Fighting         849\n",
       "Strategy         683\n",
       "Puzzle           580\n",
       "Name: Genre, dtype: int64"
      ]
     },
     "execution_count": 8,
     "metadata": {},
     "output_type": "execute_result"
    }
   ],
   "source": [
    "games['Genre'].value_counts()"
   ]
  },
  {
   "cell_type": "code",
   "execution_count": 9,
   "metadata": {},
   "outputs": [
    {
     "data": {
      "text/plain": [
       "tbd    2424\n",
       "7.8     324\n",
       "8       290\n",
       "8.2     282\n",
       "8.3     254\n",
       "Name: User_Score, dtype: int64"
      ]
     },
     "execution_count": 9,
     "metadata": {},
     "output_type": "execute_result"
    }
   ],
   "source": [
    "games['User_Score'].value_counts()[:5]"
   ]
  },
  {
   "cell_type": "markdown",
   "metadata": {},
   "source": [
    "В данном датасете представлено **16715** объектов. **11** признаков.\\\n",
    "Заметим, что несмотря на 16715 объектов, уникальных названий игр **11560**.\\\n",
    "В данных есть пропуски, в частности, меньше всего пропусков у признаков **Name** и **Genre** - по два. Больше всего пропусков у признака **Critic_score** - пропущено **8578** объектов (больше 50% от общего числа). Также много пропусков у признаков **Rating** и **User_Score** - **6766** и **6701** соответственно.\\\n",
    "Обратим внимание, что у признака **User_Score** есть значения `tbd` несмотря на то, что подразумевается, что данный признак содержит только числа.\\\n",
    "На данный момент дубликатов в данных нет."
   ]
  },
  {
   "cell_type": "markdown",
   "metadata": {},
   "source": [
    "<a id='section2'></a>\n",
    "### Подготовка данных"
   ]
  },
  {
   "cell_type": "code",
   "execution_count": 10,
   "metadata": {},
   "outputs": [
    {
     "data": {
      "text/html": [
       "<div>\n",
       "<style scoped>\n",
       "    .dataframe tbody tr th:only-of-type {\n",
       "        vertical-align: middle;\n",
       "    }\n",
       "\n",
       "    .dataframe tbody tr th {\n",
       "        vertical-align: top;\n",
       "    }\n",
       "\n",
       "    .dataframe thead th {\n",
       "        text-align: right;\n",
       "    }\n",
       "</style>\n",
       "<table border=\"1\" class=\"dataframe\">\n",
       "  <thead>\n",
       "    <tr style=\"text-align: right;\">\n",
       "      <th></th>\n",
       "      <th>name</th>\n",
       "      <th>platform</th>\n",
       "      <th>year_of_release</th>\n",
       "      <th>genre</th>\n",
       "      <th>na_sales</th>\n",
       "      <th>eu_sales</th>\n",
       "      <th>jp_sales</th>\n",
       "      <th>other_sales</th>\n",
       "      <th>critic_score</th>\n",
       "      <th>user_score</th>\n",
       "      <th>rating</th>\n",
       "    </tr>\n",
       "  </thead>\n",
       "  <tbody>\n",
       "    <tr>\n",
       "      <td>0</td>\n",
       "      <td>Wii Sports</td>\n",
       "      <td>Wii</td>\n",
       "      <td>2006.0</td>\n",
       "      <td>Sports</td>\n",
       "      <td>41.36</td>\n",
       "      <td>28.96</td>\n",
       "      <td>3.77</td>\n",
       "      <td>8.45</td>\n",
       "      <td>76.0</td>\n",
       "      <td>8</td>\n",
       "      <td>E</td>\n",
       "    </tr>\n",
       "  </tbody>\n",
       "</table>\n",
       "</div>"
      ],
      "text/plain": [
       "         name platform  year_of_release   genre  na_sales  eu_sales  jp_sales  \\\n",
       "0  Wii Sports      Wii           2006.0  Sports     41.36     28.96      3.77   \n",
       "\n",
       "   other_sales  critic_score user_score rating  \n",
       "0         8.45          76.0          8      E  "
      ]
     },
     "execution_count": 10,
     "metadata": {},
     "output_type": "execute_result"
    }
   ],
   "source": [
    "# приведем названия столбцов к нижнему регистру\n",
    "games.columns = games.columns.str.lower()\n",
    "games.head(1)"
   ]
  },
  {
   "cell_type": "markdown",
   "metadata": {},
   "source": [
    "Прежде, чем изменить тип данных у некоторых признаков, заполним пропуски.\n",
    "Рассмотрим признак **Rating**. У данного признака 40% пропусков от общего числа объектов. Это значит, что просто так удалить данные строки мы не можем, так как уберем большое количество объектов. Заполнять по каким-либо критериям данный признак тоже не просто. Поэтому заменим пропуски, как \"не определен\" (`notdef`).\\\n",
    "Признаки **Name**, **Genre** и **Year_of_release** содержат меньше 2% пропусков от общих данных, поэтому данные пропуски можно удалить.\\\n",
    "Как было замечено выше, признак **User_score** содержит значения `tbd`, для начала заменим их на `None`.\\\n",
    "Так как у признаков **User_score** и **Critic_score** более 40% пропусков, то не будем заполнять их, чтобы не смещать распределение и дисперсию."
   ]
  },
  {
   "cell_type": "markdown",
   "metadata": {},
   "source": [
    "Прежде, чем удалить объекты с пропущенными значениями, посмотрим не содержат ли они какую-либо нужную информацию."
   ]
  },
  {
   "cell_type": "code",
   "execution_count": 11,
   "metadata": {},
   "outputs": [
    {
     "data": {
      "text/html": [
       "<div>\n",
       "<style scoped>\n",
       "    .dataframe tbody tr th:only-of-type {\n",
       "        vertical-align: middle;\n",
       "    }\n",
       "\n",
       "    .dataframe tbody tr th {\n",
       "        vertical-align: top;\n",
       "    }\n",
       "\n",
       "    .dataframe thead th {\n",
       "        text-align: right;\n",
       "    }\n",
       "</style>\n",
       "<table border=\"1\" class=\"dataframe\">\n",
       "  <thead>\n",
       "    <tr style=\"text-align: right;\">\n",
       "      <th></th>\n",
       "      <th>name</th>\n",
       "      <th>platform</th>\n",
       "      <th>year_of_release</th>\n",
       "      <th>genre</th>\n",
       "      <th>na_sales</th>\n",
       "      <th>eu_sales</th>\n",
       "      <th>jp_sales</th>\n",
       "      <th>other_sales</th>\n",
       "      <th>critic_score</th>\n",
       "      <th>user_score</th>\n",
       "      <th>rating</th>\n",
       "    </tr>\n",
       "  </thead>\n",
       "  <tbody>\n",
       "    <tr>\n",
       "      <td>659</td>\n",
       "      <td>NaN</td>\n",
       "      <td>GEN</td>\n",
       "      <td>1993.0</td>\n",
       "      <td>NaN</td>\n",
       "      <td>1.78</td>\n",
       "      <td>0.53</td>\n",
       "      <td>0.00</td>\n",
       "      <td>0.08</td>\n",
       "      <td>NaN</td>\n",
       "      <td>NaN</td>\n",
       "      <td>NaN</td>\n",
       "    </tr>\n",
       "    <tr>\n",
       "      <td>14244</td>\n",
       "      <td>NaN</td>\n",
       "      <td>GEN</td>\n",
       "      <td>1993.0</td>\n",
       "      <td>NaN</td>\n",
       "      <td>0.00</td>\n",
       "      <td>0.00</td>\n",
       "      <td>0.03</td>\n",
       "      <td>0.00</td>\n",
       "      <td>NaN</td>\n",
       "      <td>NaN</td>\n",
       "      <td>NaN</td>\n",
       "    </tr>\n",
       "  </tbody>\n",
       "</table>\n",
       "</div>"
      ],
      "text/plain": [
       "      name platform  year_of_release genre  na_sales  eu_sales  jp_sales  \\\n",
       "659    NaN      GEN           1993.0   NaN      1.78      0.53      0.00   \n",
       "14244  NaN      GEN           1993.0   NaN      0.00      0.00      0.03   \n",
       "\n",
       "       other_sales  critic_score user_score rating  \n",
       "659           0.08           NaN        NaN    NaN  \n",
       "14244         0.00           NaN        NaN    NaN  "
      ]
     },
     "execution_count": 11,
     "metadata": {},
     "output_type": "execute_result"
    }
   ],
   "source": [
    "games.loc[games['name'].isna()]"
   ]
  },
  {
   "cell_type": "code",
   "execution_count": 12,
   "metadata": {},
   "outputs": [
    {
     "data": {
      "text/html": [
       "<div>\n",
       "<style scoped>\n",
       "    .dataframe tbody tr th:only-of-type {\n",
       "        vertical-align: middle;\n",
       "    }\n",
       "\n",
       "    .dataframe tbody tr th {\n",
       "        vertical-align: top;\n",
       "    }\n",
       "\n",
       "    .dataframe thead th {\n",
       "        text-align: right;\n",
       "    }\n",
       "</style>\n",
       "<table border=\"1\" class=\"dataframe\">\n",
       "  <thead>\n",
       "    <tr style=\"text-align: right;\">\n",
       "      <th></th>\n",
       "      <th>name</th>\n",
       "      <th>platform</th>\n",
       "      <th>year_of_release</th>\n",
       "      <th>genre</th>\n",
       "      <th>na_sales</th>\n",
       "      <th>eu_sales</th>\n",
       "      <th>jp_sales</th>\n",
       "      <th>other_sales</th>\n",
       "      <th>critic_score</th>\n",
       "      <th>user_score</th>\n",
       "      <th>rating</th>\n",
       "    </tr>\n",
       "  </thead>\n",
       "  <tbody>\n",
       "    <tr>\n",
       "      <td>659</td>\n",
       "      <td>NaN</td>\n",
       "      <td>GEN</td>\n",
       "      <td>1993.0</td>\n",
       "      <td>NaN</td>\n",
       "      <td>1.78</td>\n",
       "      <td>0.53</td>\n",
       "      <td>0.00</td>\n",
       "      <td>0.08</td>\n",
       "      <td>NaN</td>\n",
       "      <td>NaN</td>\n",
       "      <td>NaN</td>\n",
       "    </tr>\n",
       "    <tr>\n",
       "      <td>14244</td>\n",
       "      <td>NaN</td>\n",
       "      <td>GEN</td>\n",
       "      <td>1993.0</td>\n",
       "      <td>NaN</td>\n",
       "      <td>0.00</td>\n",
       "      <td>0.00</td>\n",
       "      <td>0.03</td>\n",
       "      <td>0.00</td>\n",
       "      <td>NaN</td>\n",
       "      <td>NaN</td>\n",
       "      <td>NaN</td>\n",
       "    </tr>\n",
       "  </tbody>\n",
       "</table>\n",
       "</div>"
      ],
      "text/plain": [
       "      name platform  year_of_release genre  na_sales  eu_sales  jp_sales  \\\n",
       "659    NaN      GEN           1993.0   NaN      1.78      0.53      0.00   \n",
       "14244  NaN      GEN           1993.0   NaN      0.00      0.00      0.03   \n",
       "\n",
       "       other_sales  critic_score user_score rating  \n",
       "659           0.08           NaN        NaN    NaN  \n",
       "14244         0.00           NaN        NaN    NaN  "
      ]
     },
     "execution_count": 12,
     "metadata": {},
     "output_type": "execute_result"
    }
   ],
   "source": [
    "games.loc[games['genre'].isna()]"
   ]
  },
  {
   "cell_type": "markdown",
   "metadata": {},
   "source": [
    "Видим, что у двух объектов есть пропуски сразу по нескольким признакам. Они не содержат какую-либо уникальную информацию (объектов платформы GEN в данных больше 2), поэтому их можно спокойно удалить."
   ]
  },
  {
   "cell_type": "code",
   "execution_count": 13,
   "metadata": {
    "scrolled": true
   },
   "outputs": [
    {
     "data": {
      "text/html": [
       "<div>\n",
       "<style scoped>\n",
       "    .dataframe tbody tr th:only-of-type {\n",
       "        vertical-align: middle;\n",
       "    }\n",
       "\n",
       "    .dataframe tbody tr th {\n",
       "        vertical-align: top;\n",
       "    }\n",
       "\n",
       "    .dataframe thead th {\n",
       "        text-align: right;\n",
       "    }\n",
       "</style>\n",
       "<table border=\"1\" class=\"dataframe\">\n",
       "  <thead>\n",
       "    <tr style=\"text-align: right;\">\n",
       "      <th></th>\n",
       "      <th>name</th>\n",
       "      <th>platform</th>\n",
       "      <th>year_of_release</th>\n",
       "      <th>genre</th>\n",
       "      <th>na_sales</th>\n",
       "      <th>eu_sales</th>\n",
       "      <th>jp_sales</th>\n",
       "      <th>other_sales</th>\n",
       "      <th>critic_score</th>\n",
       "      <th>user_score</th>\n",
       "      <th>rating</th>\n",
       "    </tr>\n",
       "  </thead>\n",
       "  <tbody>\n",
       "    <tr>\n",
       "      <td>183</td>\n",
       "      <td>Madden NFL 2004</td>\n",
       "      <td>PS2</td>\n",
       "      <td>NaN</td>\n",
       "      <td>Sports</td>\n",
       "      <td>4.26</td>\n",
       "      <td>0.26</td>\n",
       "      <td>0.01</td>\n",
       "      <td>0.71</td>\n",
       "      <td>94.0</td>\n",
       "      <td>8.5</td>\n",
       "      <td>E</td>\n",
       "    </tr>\n",
       "    <tr>\n",
       "      <td>377</td>\n",
       "      <td>FIFA Soccer 2004</td>\n",
       "      <td>PS2</td>\n",
       "      <td>NaN</td>\n",
       "      <td>Sports</td>\n",
       "      <td>0.59</td>\n",
       "      <td>2.36</td>\n",
       "      <td>0.04</td>\n",
       "      <td>0.51</td>\n",
       "      <td>84.0</td>\n",
       "      <td>6.4</td>\n",
       "      <td>E</td>\n",
       "    </tr>\n",
       "    <tr>\n",
       "      <td>456</td>\n",
       "      <td>LEGO Batman: The Videogame</td>\n",
       "      <td>Wii</td>\n",
       "      <td>NaN</td>\n",
       "      <td>Action</td>\n",
       "      <td>1.80</td>\n",
       "      <td>0.97</td>\n",
       "      <td>0.00</td>\n",
       "      <td>0.29</td>\n",
       "      <td>74.0</td>\n",
       "      <td>7.9</td>\n",
       "      <td>E10+</td>\n",
       "    </tr>\n",
       "    <tr>\n",
       "      <td>475</td>\n",
       "      <td>wwe Smackdown vs. Raw 2006</td>\n",
       "      <td>PS2</td>\n",
       "      <td>NaN</td>\n",
       "      <td>Fighting</td>\n",
       "      <td>1.57</td>\n",
       "      <td>1.02</td>\n",
       "      <td>0.00</td>\n",
       "      <td>0.41</td>\n",
       "      <td>NaN</td>\n",
       "      <td>NaN</td>\n",
       "      <td>NaN</td>\n",
       "    </tr>\n",
       "    <tr>\n",
       "      <td>609</td>\n",
       "      <td>Space Invaders</td>\n",
       "      <td>2600</td>\n",
       "      <td>NaN</td>\n",
       "      <td>Shooter</td>\n",
       "      <td>2.36</td>\n",
       "      <td>0.14</td>\n",
       "      <td>0.00</td>\n",
       "      <td>0.03</td>\n",
       "      <td>NaN</td>\n",
       "      <td>NaN</td>\n",
       "      <td>NaN</td>\n",
       "    </tr>\n",
       "    <tr>\n",
       "      <td>...</td>\n",
       "      <td>...</td>\n",
       "      <td>...</td>\n",
       "      <td>...</td>\n",
       "      <td>...</td>\n",
       "      <td>...</td>\n",
       "      <td>...</td>\n",
       "      <td>...</td>\n",
       "      <td>...</td>\n",
       "      <td>...</td>\n",
       "      <td>...</td>\n",
       "      <td>...</td>\n",
       "    </tr>\n",
       "    <tr>\n",
       "      <td>16373</td>\n",
       "      <td>PDC World Championship Darts 2008</td>\n",
       "      <td>PSP</td>\n",
       "      <td>NaN</td>\n",
       "      <td>Sports</td>\n",
       "      <td>0.01</td>\n",
       "      <td>0.00</td>\n",
       "      <td>0.00</td>\n",
       "      <td>0.00</td>\n",
       "      <td>43.0</td>\n",
       "      <td>tbd</td>\n",
       "      <td>E10+</td>\n",
       "    </tr>\n",
       "    <tr>\n",
       "      <td>16405</td>\n",
       "      <td>Freaky Flyers</td>\n",
       "      <td>GC</td>\n",
       "      <td>NaN</td>\n",
       "      <td>Racing</td>\n",
       "      <td>0.01</td>\n",
       "      <td>0.00</td>\n",
       "      <td>0.00</td>\n",
       "      <td>0.00</td>\n",
       "      <td>69.0</td>\n",
       "      <td>6.5</td>\n",
       "      <td>T</td>\n",
       "    </tr>\n",
       "    <tr>\n",
       "      <td>16448</td>\n",
       "      <td>Inversion</td>\n",
       "      <td>PC</td>\n",
       "      <td>NaN</td>\n",
       "      <td>Shooter</td>\n",
       "      <td>0.01</td>\n",
       "      <td>0.00</td>\n",
       "      <td>0.00</td>\n",
       "      <td>0.00</td>\n",
       "      <td>59.0</td>\n",
       "      <td>6.7</td>\n",
       "      <td>M</td>\n",
       "    </tr>\n",
       "    <tr>\n",
       "      <td>16458</td>\n",
       "      <td>Hakuouki: Shinsengumi Kitan</td>\n",
       "      <td>PS3</td>\n",
       "      <td>NaN</td>\n",
       "      <td>Adventure</td>\n",
       "      <td>0.01</td>\n",
       "      <td>0.00</td>\n",
       "      <td>0.00</td>\n",
       "      <td>0.00</td>\n",
       "      <td>NaN</td>\n",
       "      <td>NaN</td>\n",
       "      <td>NaN</td>\n",
       "    </tr>\n",
       "    <tr>\n",
       "      <td>16522</td>\n",
       "      <td>Virtua Quest</td>\n",
       "      <td>GC</td>\n",
       "      <td>NaN</td>\n",
       "      <td>Role-Playing</td>\n",
       "      <td>0.01</td>\n",
       "      <td>0.00</td>\n",
       "      <td>0.00</td>\n",
       "      <td>0.00</td>\n",
       "      <td>55.0</td>\n",
       "      <td>5.5</td>\n",
       "      <td>T</td>\n",
       "    </tr>\n",
       "  </tbody>\n",
       "</table>\n",
       "<p>269 rows × 11 columns</p>\n",
       "</div>"
      ],
      "text/plain": [
       "                                    name platform  year_of_release  \\\n",
       "183                      Madden NFL 2004      PS2              NaN   \n",
       "377                     FIFA Soccer 2004      PS2              NaN   \n",
       "456           LEGO Batman: The Videogame      Wii              NaN   \n",
       "475           wwe Smackdown vs. Raw 2006      PS2              NaN   \n",
       "609                       Space Invaders     2600              NaN   \n",
       "...                                  ...      ...              ...   \n",
       "16373  PDC World Championship Darts 2008      PSP              NaN   \n",
       "16405                      Freaky Flyers       GC              NaN   \n",
       "16448                          Inversion       PC              NaN   \n",
       "16458        Hakuouki: Shinsengumi Kitan      PS3              NaN   \n",
       "16522                       Virtua Quest       GC              NaN   \n",
       "\n",
       "              genre  na_sales  eu_sales  jp_sales  other_sales  critic_score  \\\n",
       "183          Sports      4.26      0.26      0.01         0.71          94.0   \n",
       "377          Sports      0.59      2.36      0.04         0.51          84.0   \n",
       "456          Action      1.80      0.97      0.00         0.29          74.0   \n",
       "475        Fighting      1.57      1.02      0.00         0.41           NaN   \n",
       "609         Shooter      2.36      0.14      0.00         0.03           NaN   \n",
       "...             ...       ...       ...       ...          ...           ...   \n",
       "16373        Sports      0.01      0.00      0.00         0.00          43.0   \n",
       "16405        Racing      0.01      0.00      0.00         0.00          69.0   \n",
       "16448       Shooter      0.01      0.00      0.00         0.00          59.0   \n",
       "16458     Adventure      0.01      0.00      0.00         0.00           NaN   \n",
       "16522  Role-Playing      0.01      0.00      0.00         0.00          55.0   \n",
       "\n",
       "      user_score rating  \n",
       "183          8.5      E  \n",
       "377          6.4      E  \n",
       "456          7.9   E10+  \n",
       "475          NaN    NaN  \n",
       "609          NaN    NaN  \n",
       "...          ...    ...  \n",
       "16373        tbd   E10+  \n",
       "16405        6.5      T  \n",
       "16448        6.7      M  \n",
       "16458        NaN    NaN  \n",
       "16522        5.5      T  \n",
       "\n",
       "[269 rows x 11 columns]"
      ]
     },
     "execution_count": 13,
     "metadata": {},
     "output_type": "execute_result"
    }
   ],
   "source": [
    "games.loc[games['year_of_release'].isna()]"
   ]
  },
  {
   "cell_type": "code",
   "execution_count": 14,
   "metadata": {},
   "outputs": [
    {
     "name": "stdout",
     "output_type": "stream",
     "text": [
      "True\n",
      "True\n",
      "True\n"
     ]
    }
   ],
   "source": [
    "print(games['platform'].unique().shape[0] == games.dropna(subset=['year_of_release'], axis=0)['platform'].unique().shape[0])\n",
    "print(games['genre'].unique().shape[0] == games.dropna(subset=['year_of_release'], axis=0)['genre'].unique().shape[0])\n",
    "print(games['rating'].unique().shape[0] == games.dropna(subset=['year_of_release'], axis=0)['rating'].unique().shape[0])"
   ]
  },
  {
   "cell_type": "markdown",
   "metadata": {},
   "source": [
    "На мой взгляд, в данном случае стоило проверить не потеряем ли мы лишние платформы, жанры и возрастные категории. Как видно выше, уникальные значения по каждому из признаков остались прежними. Таким образом, пропущенные данные тоже можно безболезненно удалить."
   ]
  },
  {
   "cell_type": "code",
   "execution_count": 15,
   "metadata": {
    "scrolled": false
   },
   "outputs": [
    {
     "name": "stdout",
     "output_type": "stream",
     "text": [
      "До: (16715, 11)\n",
      "После: (16444, 11)\n"
     ]
    }
   ],
   "source": [
    "#отфильтруем данные\n",
    "print('До:', games.shape)\n",
    "games = games.dropna(subset=['name', 'genre', 'year_of_release'], axis=0)\n",
    "print('После:', games.shape)"
   ]
  },
  {
   "cell_type": "code",
   "execution_count": 16,
   "metadata": {},
   "outputs": [],
   "source": [
    "# заменим пропуски у признака Rating\n",
    "games['rating'] = games['rating'].fillna('notdef')\n",
    "#games.loc[games['rating']=='nan', 'rating'] = 'notdef'"
   ]
  },
  {
   "cell_type": "code",
   "execution_count": 17,
   "metadata": {},
   "outputs": [],
   "source": [
    "# заменим значение tbd на None у признака user_score\n",
    "games.loc[games['user_score'] == 'tbd', 'user_score'] = None"
   ]
  },
  {
   "cell_type": "code",
   "execution_count": 18,
   "metadata": {
    "scrolled": true
   },
   "outputs": [],
   "source": [
    "# заменим тип данных в столбцах year_of_release и user_score\n",
    "games['critic_score'] = games['critic_score'].astype('Int64')\n",
    "games['year_of_release'] = games['year_of_release'].astype('int64')\n",
    "games['user_score'] = games['user_score'].astype('float64')"
   ]
  },
  {
   "cell_type": "code",
   "execution_count": 19,
   "metadata": {},
   "outputs": [
    {
     "name": "stdout",
     "output_type": "stream",
     "text": [
      "<class 'pandas.core.frame.DataFrame'>\n",
      "Int64Index: 16444 entries, 0 to 16714\n",
      "Data columns (total 11 columns):\n",
      "name               16444 non-null object\n",
      "platform           16444 non-null object\n",
      "year_of_release    16444 non-null int64\n",
      "genre              16444 non-null object\n",
      "na_sales           16444 non-null float64\n",
      "eu_sales           16444 non-null float64\n",
      "jp_sales           16444 non-null float64\n",
      "other_sales        16444 non-null float64\n",
      "critic_score       7983 non-null Int64\n",
      "user_score         7463 non-null float64\n",
      "rating             16444 non-null object\n",
      "dtypes: Int64(1), float64(5), int64(1), object(4)\n",
      "memory usage: 1.5+ MB\n"
     ]
    }
   ],
   "source": [
    "games.info()"
   ]
  },
  {
   "cell_type": "markdown",
   "metadata": {},
   "source": [
    "В результате были проведены все необходимые действия по обработке пропусков и изменению типов данных.\\\n",
    "Объяснение по способу заполнения/незаполнения пропусков описано выше.\\\n",
    "**Почему эти пропуски появились?**\\\n",
    "На мой взгляд, пропуски в столбцах **critic_score** и **user_score** образовались из-за того, что критики и пользователи не ставили свои оценки по всем приведенным играм (как в принципе это часто бывает, при просьбе оценить приложение/работу специалиста/что-либо еще). В случае с рейтингом данные также могли быть просто незаполнены.\\\n",
    "**Почему заменил тип данных?**\\\n",
    "В столбцах **year_of_release**, **user_score** и **critic_score** был заменен тип данных.\\\n",
    "В первом случае признак содержит в себе год выхода игры, но имел тип `float`, год - число целочисленное, поэтому данный столбец был приведен к типу `int`.\\\n",
    "Во втором случае признак имел тип object, так как содержал в себе значения `tbd`. Они были заменены на `None`, после чего признак был приведен к типу `float`, так как оценки пользователей могут быть вещественными.\\\n",
    "В третьем случае признак имел тип `float`, хотя содержит в себе только целочисленные значения, поэтому я привел его к типу `int`."
   ]
  },
  {
   "cell_type": "code",
   "execution_count": 20,
   "metadata": {},
   "outputs": [],
   "source": [
    "# посчитаем суммарные продажи во всех регионах\n",
    "games['total_sales'] = games['na_sales'] + games['eu_sales'] + games['jp_sales'] + games['other_sales']"
   ]
  },
  {
   "cell_type": "code",
   "execution_count": 21,
   "metadata": {
    "scrolled": true
   },
   "outputs": [
    {
     "data": {
      "text/html": [
       "<div>\n",
       "<style scoped>\n",
       "    .dataframe tbody tr th:only-of-type {\n",
       "        vertical-align: middle;\n",
       "    }\n",
       "\n",
       "    .dataframe tbody tr th {\n",
       "        vertical-align: top;\n",
       "    }\n",
       "\n",
       "    .dataframe thead th {\n",
       "        text-align: right;\n",
       "    }\n",
       "</style>\n",
       "<table border=\"1\" class=\"dataframe\">\n",
       "  <thead>\n",
       "    <tr style=\"text-align: right;\">\n",
       "      <th></th>\n",
       "      <th>name</th>\n",
       "      <th>platform</th>\n",
       "      <th>year_of_release</th>\n",
       "      <th>genre</th>\n",
       "      <th>na_sales</th>\n",
       "      <th>eu_sales</th>\n",
       "      <th>jp_sales</th>\n",
       "      <th>other_sales</th>\n",
       "      <th>critic_score</th>\n",
       "      <th>user_score</th>\n",
       "      <th>rating</th>\n",
       "      <th>total_sales</th>\n",
       "    </tr>\n",
       "  </thead>\n",
       "  <tbody>\n",
       "    <tr>\n",
       "      <td>0</td>\n",
       "      <td>Wii Sports</td>\n",
       "      <td>Wii</td>\n",
       "      <td>2006</td>\n",
       "      <td>Sports</td>\n",
       "      <td>41.36</td>\n",
       "      <td>28.96</td>\n",
       "      <td>3.77</td>\n",
       "      <td>8.45</td>\n",
       "      <td>76</td>\n",
       "      <td>8.0</td>\n",
       "      <td>E</td>\n",
       "      <td>82.54</td>\n",
       "    </tr>\n",
       "    <tr>\n",
       "      <td>1</td>\n",
       "      <td>Super Mario Bros.</td>\n",
       "      <td>NES</td>\n",
       "      <td>1985</td>\n",
       "      <td>Platform</td>\n",
       "      <td>29.08</td>\n",
       "      <td>3.58</td>\n",
       "      <td>6.81</td>\n",
       "      <td>0.77</td>\n",
       "      <td>NaN</td>\n",
       "      <td>NaN</td>\n",
       "      <td>notdef</td>\n",
       "      <td>40.24</td>\n",
       "    </tr>\n",
       "    <tr>\n",
       "      <td>2</td>\n",
       "      <td>Mario Kart Wii</td>\n",
       "      <td>Wii</td>\n",
       "      <td>2008</td>\n",
       "      <td>Racing</td>\n",
       "      <td>15.68</td>\n",
       "      <td>12.76</td>\n",
       "      <td>3.79</td>\n",
       "      <td>3.29</td>\n",
       "      <td>82</td>\n",
       "      <td>8.3</td>\n",
       "      <td>E</td>\n",
       "      <td>35.52</td>\n",
       "    </tr>\n",
       "    <tr>\n",
       "      <td>3</td>\n",
       "      <td>Wii Sports Resort</td>\n",
       "      <td>Wii</td>\n",
       "      <td>2009</td>\n",
       "      <td>Sports</td>\n",
       "      <td>15.61</td>\n",
       "      <td>10.93</td>\n",
       "      <td>3.28</td>\n",
       "      <td>2.95</td>\n",
       "      <td>80</td>\n",
       "      <td>8.0</td>\n",
       "      <td>E</td>\n",
       "      <td>32.77</td>\n",
       "    </tr>\n",
       "    <tr>\n",
       "      <td>4</td>\n",
       "      <td>Pokemon Red/Pokemon Blue</td>\n",
       "      <td>GB</td>\n",
       "      <td>1996</td>\n",
       "      <td>Role-Playing</td>\n",
       "      <td>11.27</td>\n",
       "      <td>8.89</td>\n",
       "      <td>10.22</td>\n",
       "      <td>1.00</td>\n",
       "      <td>NaN</td>\n",
       "      <td>NaN</td>\n",
       "      <td>notdef</td>\n",
       "      <td>31.38</td>\n",
       "    </tr>\n",
       "  </tbody>\n",
       "</table>\n",
       "</div>"
      ],
      "text/plain": [
       "                       name platform  year_of_release         genre  na_sales  \\\n",
       "0                Wii Sports      Wii             2006        Sports     41.36   \n",
       "1         Super Mario Bros.      NES             1985      Platform     29.08   \n",
       "2            Mario Kart Wii      Wii             2008        Racing     15.68   \n",
       "3         Wii Sports Resort      Wii             2009        Sports     15.61   \n",
       "4  Pokemon Red/Pokemon Blue       GB             1996  Role-Playing     11.27   \n",
       "\n",
       "   eu_sales  jp_sales  other_sales  critic_score  user_score  rating  \\\n",
       "0     28.96      3.77         8.45            76         8.0       E   \n",
       "1      3.58      6.81         0.77           NaN         NaN  notdef   \n",
       "2     12.76      3.79         3.29            82         8.3       E   \n",
       "3     10.93      3.28         2.95            80         8.0       E   \n",
       "4      8.89     10.22         1.00           NaN         NaN  notdef   \n",
       "\n",
       "   total_sales  \n",
       "0        82.54  \n",
       "1        40.24  \n",
       "2        35.52  \n",
       "3        32.77  \n",
       "4        31.38  "
      ]
     },
     "execution_count": 21,
     "metadata": {},
     "output_type": "execute_result"
    }
   ],
   "source": [
    "games.head()"
   ]
  },
  {
   "cell_type": "markdown",
   "metadata": {},
   "source": [
    "<a id='section3'></a>\n",
    "### Исследовательский анализ данных"
   ]
  },
  {
   "cell_type": "code",
   "execution_count": 22,
   "metadata": {},
   "outputs": [
    {
     "data": {
      "text/html": [
       "<div>\n",
       "<style scoped>\n",
       "    .dataframe tbody tr th:only-of-type {\n",
       "        vertical-align: middle;\n",
       "    }\n",
       "\n",
       "    .dataframe tbody tr th {\n",
       "        vertical-align: top;\n",
       "    }\n",
       "\n",
       "    .dataframe thead th {\n",
       "        text-align: right;\n",
       "    }\n",
       "</style>\n",
       "<table border=\"1\" class=\"dataframe\">\n",
       "  <thead>\n",
       "    <tr style=\"text-align: right;\">\n",
       "      <th></th>\n",
       "      <th>name</th>\n",
       "    </tr>\n",
       "    <tr>\n",
       "      <th>year_of_release</th>\n",
       "      <th></th>\n",
       "    </tr>\n",
       "  </thead>\n",
       "  <tbody>\n",
       "    <tr>\n",
       "      <td>1980</td>\n",
       "      <td>9</td>\n",
       "    </tr>\n",
       "    <tr>\n",
       "      <td>1981</td>\n",
       "      <td>46</td>\n",
       "    </tr>\n",
       "    <tr>\n",
       "      <td>1982</td>\n",
       "      <td>36</td>\n",
       "    </tr>\n",
       "    <tr>\n",
       "      <td>1983</td>\n",
       "      <td>17</td>\n",
       "    </tr>\n",
       "    <tr>\n",
       "      <td>1984</td>\n",
       "      <td>14</td>\n",
       "    </tr>\n",
       "    <tr>\n",
       "      <td>1985</td>\n",
       "      <td>14</td>\n",
       "    </tr>\n",
       "    <tr>\n",
       "      <td>1986</td>\n",
       "      <td>21</td>\n",
       "    </tr>\n",
       "    <tr>\n",
       "      <td>1987</td>\n",
       "      <td>16</td>\n",
       "    </tr>\n",
       "    <tr>\n",
       "      <td>1988</td>\n",
       "      <td>15</td>\n",
       "    </tr>\n",
       "    <tr>\n",
       "      <td>1989</td>\n",
       "      <td>17</td>\n",
       "    </tr>\n",
       "    <tr>\n",
       "      <td>1990</td>\n",
       "      <td>16</td>\n",
       "    </tr>\n",
       "    <tr>\n",
       "      <td>1991</td>\n",
       "      <td>41</td>\n",
       "    </tr>\n",
       "    <tr>\n",
       "      <td>1992</td>\n",
       "      <td>43</td>\n",
       "    </tr>\n",
       "    <tr>\n",
       "      <td>1993</td>\n",
       "      <td>60</td>\n",
       "    </tr>\n",
       "    <tr>\n",
       "      <td>1994</td>\n",
       "      <td>121</td>\n",
       "    </tr>\n",
       "    <tr>\n",
       "      <td>1995</td>\n",
       "      <td>219</td>\n",
       "    </tr>\n",
       "    <tr>\n",
       "      <td>1996</td>\n",
       "      <td>263</td>\n",
       "    </tr>\n",
       "    <tr>\n",
       "      <td>1997</td>\n",
       "      <td>289</td>\n",
       "    </tr>\n",
       "    <tr>\n",
       "      <td>1998</td>\n",
       "      <td>379</td>\n",
       "    </tr>\n",
       "    <tr>\n",
       "      <td>1999</td>\n",
       "      <td>338</td>\n",
       "    </tr>\n",
       "    <tr>\n",
       "      <td>2000</td>\n",
       "      <td>350</td>\n",
       "    </tr>\n",
       "    <tr>\n",
       "      <td>2001</td>\n",
       "      <td>482</td>\n",
       "    </tr>\n",
       "    <tr>\n",
       "      <td>2002</td>\n",
       "      <td>829</td>\n",
       "    </tr>\n",
       "    <tr>\n",
       "      <td>2003</td>\n",
       "      <td>775</td>\n",
       "    </tr>\n",
       "    <tr>\n",
       "      <td>2004</td>\n",
       "      <td>762</td>\n",
       "    </tr>\n",
       "    <tr>\n",
       "      <td>2005</td>\n",
       "      <td>939</td>\n",
       "    </tr>\n",
       "    <tr>\n",
       "      <td>2006</td>\n",
       "      <td>1006</td>\n",
       "    </tr>\n",
       "    <tr>\n",
       "      <td>2007</td>\n",
       "      <td>1197</td>\n",
       "    </tr>\n",
       "    <tr>\n",
       "      <td>2008</td>\n",
       "      <td>1427</td>\n",
       "    </tr>\n",
       "    <tr>\n",
       "      <td>2009</td>\n",
       "      <td>1426</td>\n",
       "    </tr>\n",
       "    <tr>\n",
       "      <td>2010</td>\n",
       "      <td>1255</td>\n",
       "    </tr>\n",
       "    <tr>\n",
       "      <td>2011</td>\n",
       "      <td>1136</td>\n",
       "    </tr>\n",
       "    <tr>\n",
       "      <td>2012</td>\n",
       "      <td>653</td>\n",
       "    </tr>\n",
       "    <tr>\n",
       "      <td>2013</td>\n",
       "      <td>544</td>\n",
       "    </tr>\n",
       "    <tr>\n",
       "      <td>2014</td>\n",
       "      <td>581</td>\n",
       "    </tr>\n",
       "    <tr>\n",
       "      <td>2015</td>\n",
       "      <td>606</td>\n",
       "    </tr>\n",
       "    <tr>\n",
       "      <td>2016</td>\n",
       "      <td>502</td>\n",
       "    </tr>\n",
       "  </tbody>\n",
       "</table>\n",
       "</div>"
      ],
      "text/plain": [
       "                 name\n",
       "year_of_release      \n",
       "1980                9\n",
       "1981               46\n",
       "1982               36\n",
       "1983               17\n",
       "1984               14\n",
       "1985               14\n",
       "1986               21\n",
       "1987               16\n",
       "1988               15\n",
       "1989               17\n",
       "1990               16\n",
       "1991               41\n",
       "1992               43\n",
       "1993               60\n",
       "1994              121\n",
       "1995              219\n",
       "1996              263\n",
       "1997              289\n",
       "1998              379\n",
       "1999              338\n",
       "2000              350\n",
       "2001              482\n",
       "2002              829\n",
       "2003              775\n",
       "2004              762\n",
       "2005              939\n",
       "2006             1006\n",
       "2007             1197\n",
       "2008             1427\n",
       "2009             1426\n",
       "2010             1255\n",
       "2011             1136\n",
       "2012              653\n",
       "2013              544\n",
       "2014              581\n",
       "2015              606\n",
       "2016              502"
      ]
     },
     "execution_count": 22,
     "metadata": {},
     "output_type": "execute_result"
    }
   ],
   "source": [
    "# посмотрим, сколько игр выпускалось в разные годы\n",
    "year_release_grouped = games.pivot_table(index='year_of_release', values='name', aggfunc='count')\n",
    "year_release_grouped"
   ]
  },
  {
   "cell_type": "code",
   "execution_count": 23,
   "metadata": {},
   "outputs": [
    {
     "data": {
      "image/png": "[encoded data removed]",
      "text/plain": [
       "<Figure size 864x360 with 1 Axes>"
      ]
     },
     "metadata": {
      "needs_background": "light"
     },
     "output_type": "display_data"
    }
   ],
   "source": [
    "year_release_grouped.plot(figsize=(12,5), legend=False)\n",
    "plt.xticks(np.arange(1980, 2018, step=2))\n",
    "plt.xlabel('Год')\n",
    "plt.ylabel('Количество игр')\n",
    "plt.title('График количества игр, выпущенных в разные годы')\n",
    "plt.axhline(y = 121, color='orange')\n",
    "plt.show()"
   ]
  },
  {
   "cell_type": "markdown",
   "metadata": {},
   "source": [
    "На мой взгляд, данные за все периоды не так важны. Можно заметить, что достаточно резкий скачок по количеству выпущенных игр произошел в **1994** году, когда количество игр превысило сотню."
   ]
  },
  {
   "cell_type": "code",
   "execution_count": 24,
   "metadata": {},
   "outputs": [
    {
     "data": {
      "text/html": [
       "<div>\n",
       "<style scoped>\n",
       "    .dataframe tbody tr th:only-of-type {\n",
       "        vertical-align: middle;\n",
       "    }\n",
       "\n",
       "    .dataframe tbody tr th {\n",
       "        vertical-align: top;\n",
       "    }\n",
       "\n",
       "    .dataframe thead th {\n",
       "        text-align: right;\n",
       "    }\n",
       "</style>\n",
       "<table border=\"1\" class=\"dataframe\">\n",
       "  <thead>\n",
       "    <tr style=\"text-align: right;\">\n",
       "      <th></th>\n",
       "      <th>platform</th>\n",
       "      <th>year_of_release</th>\n",
       "      <th>total_sales</th>\n",
       "    </tr>\n",
       "  </thead>\n",
       "  <tbody>\n",
       "    <tr>\n",
       "      <td>134</td>\n",
       "      <td>PS2</td>\n",
       "      <td>2004</td>\n",
       "      <td>211.81</td>\n",
       "    </tr>\n",
       "    <tr>\n",
       "      <td>200</td>\n",
       "      <td>Wii</td>\n",
       "      <td>2009</td>\n",
       "      <td>206.97</td>\n",
       "    </tr>\n",
       "    <tr>\n",
       "      <td>132</td>\n",
       "      <td>PS2</td>\n",
       "      <td>2002</td>\n",
       "      <td>205.38</td>\n",
       "    </tr>\n",
       "    <tr>\n",
       "      <td>133</td>\n",
       "      <td>PS2</td>\n",
       "      <td>2003</td>\n",
       "      <td>184.31</td>\n",
       "    </tr>\n",
       "    <tr>\n",
       "      <td>199</td>\n",
       "      <td>Wii</td>\n",
       "      <td>2008</td>\n",
       "      <td>171.32</td>\n",
       "    </tr>\n",
       "    <tr>\n",
       "      <td>218</td>\n",
       "      <td>X360</td>\n",
       "      <td>2010</td>\n",
       "      <td>170.03</td>\n",
       "    </tr>\n",
       "    <tr>\n",
       "      <td>124</td>\n",
       "      <td>PS</td>\n",
       "      <td>1998</td>\n",
       "      <td>169.49</td>\n",
       "    </tr>\n",
       "    <tr>\n",
       "      <td>131</td>\n",
       "      <td>PS2</td>\n",
       "      <td>2001</td>\n",
       "      <td>166.43</td>\n",
       "    </tr>\n",
       "    <tr>\n",
       "      <td>135</td>\n",
       "      <td>PS2</td>\n",
       "      <td>2005</td>\n",
       "      <td>160.66</td>\n",
       "    </tr>\n",
       "    <tr>\n",
       "      <td>147</td>\n",
       "      <td>PS3</td>\n",
       "      <td>2011</td>\n",
       "      <td>156.78</td>\n",
       "    </tr>\n",
       "  </tbody>\n",
       "</table>\n",
       "</div>"
      ],
      "text/plain": [
       "    platform  year_of_release  total_sales\n",
       "134      PS2             2004       211.81\n",
       "200      Wii             2009       206.97\n",
       "132      PS2             2002       205.38\n",
       "133      PS2             2003       184.31\n",
       "199      Wii             2008       171.32\n",
       "218     X360             2010       170.03\n",
       "124       PS             1998       169.49\n",
       "131      PS2             2001       166.43\n",
       "135      PS2             2005       160.66\n",
       "147      PS3             2011       156.78"
      ]
     },
     "execution_count": 24,
     "metadata": {},
     "output_type": "execute_result"
    }
   ],
   "source": [
    "# посмотрим, как менялись продажи по платформам\n",
    "platform_grouped = games.pivot_table(index=['platform', 'year_of_release'], values='total_sales', aggfunc='sum').reset_index()\n",
    "platform_grouped = platform_grouped.sort_values(by='total_sales', ascending=False)\n",
    "platform_grouped[:10]"
   ]
  },
  {
   "cell_type": "code",
   "execution_count": 25,
   "metadata": {},
   "outputs": [
    {
     "data": {
      "image/png": "[encoded data removed]",
      "text/plain": [
       "<Figure size 1224x1080 with 5 Axes>"
      ]
     },
     "metadata": {
      "needs_background": "light"
     },
     "output_type": "display_data"
    }
   ],
   "source": [
    "# выберем 10 наибольших суммарных продаж и из них топ платформ\n",
    "#fg, ax = plt.subplots(2, 3, figsize=(15,7))\n",
    "plt.subplots(figsize=(17,15))\n",
    "platform_top = platform_grouped['platform'][:10].unique()\n",
    "for i, platform in enumerate(platform_top):\n",
    "    games.query('platform==@platform').pivot_table(index='year_of_release',\n",
    "                                                  values='total_sales',\n",
    "                                                  aggfunc='sum').plot(ax=plt.subplot(3, 3, i+1), \n",
    "                                                                      title=platform)"
   ]
  },
  {
   "cell_type": "markdown",
   "metadata": {},
   "source": [
    "В результате мною были выбраны топ 5 платформ с наибольними суммарными продажами: `PS2, Wii, X360, PS, PS3`.\\\n",
    "Как видно выше, каждая из платформ достигала своего пика по продажам примерно через 5 лет после выхода.\n",
    "Основываясь на графиках выше, можно сделать вывод о том, что средний срок жизни платформы составляет примерно **10 лет**."
   ]
  },
  {
   "cell_type": "code",
   "execution_count": 26,
   "metadata": {},
   "outputs": [
    {
     "data": {
      "text/plain": [
       "array(['PS2', 'Wii', 'X360', 'PS', 'PS3'], dtype=object)"
      ]
     },
     "execution_count": 26,
     "metadata": {},
     "output_type": "execute_result"
    }
   ],
   "source": [
    "platform_top"
   ]
  },
  {
   "cell_type": "markdown",
   "metadata": {},
   "source": [
    "Определим актуальный период для построения прогнозов на 2017 год."
   ]
  },
  {
   "cell_type": "code",
   "execution_count": 27,
   "metadata": {
    "scrolled": true
   },
   "outputs": [
    {
     "data": {
      "text/plain": [
       "2016"
      ]
     },
     "execution_count": 27,
     "metadata": {},
     "output_type": "execute_result"
    }
   ],
   "source": [
    "games['year_of_release'].max()"
   ]
  },
  {
   "cell_type": "code",
   "execution_count": 28,
   "metadata": {},
   "outputs": [
    {
     "data": {
      "image/png": "[encoded data removed]",
      "text/plain": [
       "<Figure size 1224x360 with 1 Axes>"
      ]
     },
     "metadata": {
      "needs_background": "light"
     },
     "output_type": "display_data"
    }
   ],
   "source": [
    "# изобразим графики вместе для большей наглядности\n",
    "fg, ax = plt.subplots(figsize=(17,5))\n",
    "platform_top = platform_grouped['platform'][:10].unique()\n",
    "for platform in platform_top:\n",
    "    games.query('platform==@platform').pivot_table(index='year_of_release',\n",
    "                                                  values='total_sales',\n",
    "                                                  aggfunc='sum').plot(ax=ax, legend=False)\n",
    "plt.xticks(np.arange(1994, 2018, step=2))\n",
    "plt.axhline(y = 50, color='orange')\n",
    "plt.show()"
   ]
  },
  {
   "cell_type": "markdown",
   "metadata": {},
   "source": [
    "Заметим, что у многих графиков есть длинные хвосты, обозначающие уменьшение продаж с \n",
    "платформы, вместе с тем и умирание платформы.\\\n",
    "Попробуем найти пороговое значение выручки, которое будет отсекать данные хвосты. По графику видно, что подходит значение близкое к 50. То есть если продажи с платформы больше 50"
   ]
  },
  {
   "cell_type": "code",
   "execution_count": 29,
   "metadata": {},
   "outputs": [
    {
     "data": {
      "text/html": [
       "<div>\n",
       "<style scoped>\n",
       "    .dataframe tbody tr th:only-of-type {\n",
       "        vertical-align: middle;\n",
       "    }\n",
       "\n",
       "    .dataframe tbody tr th {\n",
       "        vertical-align: top;\n",
       "    }\n",
       "\n",
       "    .dataframe thead tr th {\n",
       "        text-align: left;\n",
       "    }\n",
       "</style>\n",
       "<table border=\"1\" class=\"dataframe\">\n",
       "  <thead>\n",
       "    <tr>\n",
       "      <th></th>\n",
       "      <th>platform</th>\n",
       "      <th>min</th>\n",
       "      <th>max</th>\n",
       "      <th>diff</th>\n",
       "    </tr>\n",
       "    <tr>\n",
       "      <th></th>\n",
       "      <th></th>\n",
       "      <th>year_of_release</th>\n",
       "      <th>year_of_release</th>\n",
       "      <th></th>\n",
       "    </tr>\n",
       "  </thead>\n",
       "  <tbody>\n",
       "    <tr>\n",
       "      <td>0</td>\n",
       "      <td>PS</td>\n",
       "      <td>1996</td>\n",
       "      <td>2000</td>\n",
       "      <td>4</td>\n",
       "    </tr>\n",
       "    <tr>\n",
       "      <td>1</td>\n",
       "      <td>PS2</td>\n",
       "      <td>2001</td>\n",
       "      <td>2008</td>\n",
       "      <td>7</td>\n",
       "    </tr>\n",
       "    <tr>\n",
       "      <td>2</td>\n",
       "      <td>PS3</td>\n",
       "      <td>2007</td>\n",
       "      <td>2013</td>\n",
       "      <td>6</td>\n",
       "    </tr>\n",
       "    <tr>\n",
       "      <td>3</td>\n",
       "      <td>Wii</td>\n",
       "      <td>2006</td>\n",
       "      <td>2011</td>\n",
       "      <td>5</td>\n",
       "    </tr>\n",
       "    <tr>\n",
       "      <td>4</td>\n",
       "      <td>X360</td>\n",
       "      <td>2006</td>\n",
       "      <td>2013</td>\n",
       "      <td>7</td>\n",
       "    </tr>\n",
       "  </tbody>\n",
       "</table>\n",
       "</div>"
      ],
      "text/plain": [
       "  platform             min             max diff\n",
       "           year_of_release year_of_release     \n",
       "0       PS            1996            2000    4\n",
       "1      PS2            2001            2008    7\n",
       "2      PS3            2007            2013    6\n",
       "3      Wii            2006            2011    5\n",
       "4     X360            2006            2013    7"
      ]
     },
     "execution_count": 29,
     "metadata": {},
     "output_type": "execute_result"
    }
   ],
   "source": [
    "# найдем сколько в среднем живут платформы выше этого порога\n",
    "sales_over_fifty = platform_grouped.query('(platform in @platform_top) and (total_sales > 50)').pivot_table(index='platform',\n",
    "                                                                                                            values='year_of_release',\n",
    "                                                                                                            aggfunc=['min', 'max']).reset_index()\n",
    "sales_over_fifty['diff'] = sales_over_fifty['max'] - sales_over_fifty['min']\n",
    "sales_over_fifty"
   ]
  },
  {
   "cell_type": "code",
   "execution_count": 30,
   "metadata": {},
   "outputs": [
    {
     "data": {
      "text/plain": [
       "5.8"
      ]
     },
     "execution_count": 30,
     "metadata": {},
     "output_type": "execute_result"
    }
   ],
   "source": [
    "avg_platform_life = sales_over_fifty['diff'].mean()\n",
    "avg_platform_life"
   ]
  },
  {
   "cell_type": "markdown",
   "metadata": {},
   "source": [
    "Таким образом, после проведенного анализа было выявлено, что **средняя жизнь платформы составляет примерно 6 лет**.\\\n",
    "То есть **актуальным периодом** можем считать промежуток с **2010** по **2016** года."
   ]
  },
  {
   "cell_type": "code",
   "execution_count": 31,
   "metadata": {},
   "outputs": [
    {
     "data": {
      "text/plain": [
       "32.09073218195086"
      ]
     },
     "execution_count": 31,
     "metadata": {},
     "output_type": "execute_result"
    }
   ],
   "source": [
    "# отфильтруем данные \n",
    "filtered_games = games.query('2010 <= year_of_release <= 2016')\n",
    "filtered_games.shape[0]/games.shape[0] *100"
   ]
  },
  {
   "cell_type": "markdown",
   "metadata": {},
   "source": [
    "<a id='section3.1'></a>\n",
    "Таким образом, осталось 32% от размера изначальных данных.\\\n",
    "**Посмотрим какие платформы лидируют по продажам за актуальный период.**"
   ]
  },
  {
   "cell_type": "code",
   "execution_count": 32,
   "metadata": {},
   "outputs": [
    {
     "data": {
      "image/png": "[encoded data removed]",
      "text/plain": [
       "<Figure size 720x360 with 1 Axes>"
      ]
     },
     "metadata": {
      "needs_background": "light"
     },
     "output_type": "display_data"
    }
   ],
   "source": [
    "# построим гистаграммы продаж по топ-платформам среди общего числа платформ\n",
    "filtered_games.query('platform in @platform_top').pivot_table(index='year_of_release',\n",
    "                                                             values='total_sales',\n",
    "                                                             columns='platform',\n",
    "                                                             aggfunc='sum').plot(figsize=(10,5), kind='bar', stacked=True)\n",
    "plt.title('Количество продаж по топ-платформам среди общего числа платформ')\n",
    "plt.show()"
   ]
  },
  {
   "cell_type": "markdown",
   "metadata": {},
   "source": [
    "Как видно на графике, **лидером продаж** за актуальный период является платформа **PS3**, хотя продажи *Xbox360* очень близки к продажам *PS3*. Далее располагается платформа *Wii*, продажи которой сильно убывают и сходят на нет к 2016 году. Практически нет продаж за актульный период у *PS2*.\\\n",
    "Продажи *PS3* имеют ведут себя перманентно: \n",
    "- возрастают в 2011 году;\n",
    "- убывают в 2012\n",
    "- немного возрастают в 2013 и далее убывают.\n",
    "\n",
    "Продажи *Xbox360* с каждым годом постепенно убывают.\\\n",
    "Как можно заметить продажи каждой платформы постепенно падают, что говорит о снижении их популярности."
   ]
  },
  {
   "cell_type": "code",
   "execution_count": 33,
   "metadata": {},
   "outputs": [
    {
     "data": {
      "text/html": [
       "<div>\n",
       "<style scoped>\n",
       "    .dataframe tbody tr th:only-of-type {\n",
       "        vertical-align: middle;\n",
       "    }\n",
       "\n",
       "    .dataframe tbody tr th {\n",
       "        vertical-align: top;\n",
       "    }\n",
       "\n",
       "    .dataframe thead th {\n",
       "        text-align: right;\n",
       "    }\n",
       "</style>\n",
       "<table border=\"1\" class=\"dataframe\">\n",
       "  <thead>\n",
       "    <tr style=\"text-align: right;\">\n",
       "      <th></th>\n",
       "      <th>platform</th>\n",
       "      <th>year_of_release</th>\n",
       "      <th>total_sales</th>\n",
       "    </tr>\n",
       "  </thead>\n",
       "  <tbody>\n",
       "    <tr>\n",
       "      <td>54</td>\n",
       "      <td>X360</td>\n",
       "      <td>2010</td>\n",
       "      <td>170.03</td>\n",
       "    </tr>\n",
       "    <tr>\n",
       "      <td>20</td>\n",
       "      <td>PS3</td>\n",
       "      <td>2011</td>\n",
       "      <td>156.78</td>\n",
       "    </tr>\n",
       "    <tr>\n",
       "      <td>55</td>\n",
       "      <td>X360</td>\n",
       "      <td>2011</td>\n",
       "      <td>143.84</td>\n",
       "    </tr>\n",
       "    <tr>\n",
       "      <td>19</td>\n",
       "      <td>PS3</td>\n",
       "      <td>2010</td>\n",
       "      <td>142.17</td>\n",
       "    </tr>\n",
       "    <tr>\n",
       "      <td>42</td>\n",
       "      <td>Wii</td>\n",
       "      <td>2010</td>\n",
       "      <td>127.95</td>\n",
       "    </tr>\n",
       "    <tr>\n",
       "      <td>28</td>\n",
       "      <td>PS4</td>\n",
       "      <td>2015</td>\n",
       "      <td>118.90</td>\n",
       "    </tr>\n",
       "    <tr>\n",
       "      <td>22</td>\n",
       "      <td>PS3</td>\n",
       "      <td>2013</td>\n",
       "      <td>113.25</td>\n",
       "    </tr>\n",
       "    <tr>\n",
       "      <td>21</td>\n",
       "      <td>PS3</td>\n",
       "      <td>2012</td>\n",
       "      <td>107.36</td>\n",
       "    </tr>\n",
       "    <tr>\n",
       "      <td>27</td>\n",
       "      <td>PS4</td>\n",
       "      <td>2014</td>\n",
       "      <td>100.00</td>\n",
       "    </tr>\n",
       "    <tr>\n",
       "      <td>56</td>\n",
       "      <td>X360</td>\n",
       "      <td>2012</td>\n",
       "      <td>99.74</td>\n",
       "    </tr>\n",
       "  </tbody>\n",
       "</table>\n",
       "</div>"
      ],
      "text/plain": [
       "   platform  year_of_release  total_sales\n",
       "54     X360             2010       170.03\n",
       "20      PS3             2011       156.78\n",
       "55     X360             2011       143.84\n",
       "19      PS3             2010       142.17\n",
       "42      Wii             2010       127.95\n",
       "28      PS4             2015       118.90\n",
       "22      PS3             2013       113.25\n",
       "21      PS3             2012       107.36\n",
       "27      PS4             2014       100.00\n",
       "56     X360             2012        99.74"
      ]
     },
     "execution_count": 33,
     "metadata": {},
     "output_type": "execute_result"
    }
   ],
   "source": [
    "# составим новый топ платформ, соответсвующий актульному периоду\n",
    "actual_platform_grouped = filtered_games.pivot_table(index=['platform', 'year_of_release'], values='total_sales', aggfunc='sum').reset_index()\n",
    "actual_platform_grouped = actual_platform_grouped.sort_values(by='total_sales', ascending=False)\n",
    "actual_platform_grouped[:10]"
   ]
  },
  {
   "cell_type": "code",
   "execution_count": 34,
   "metadata": {},
   "outputs": [
    {
     "data": {
      "image/png": "[encoded data removed]",
      "text/plain": [
       "<Figure size 1080x360 with 1 Axes>"
      ]
     },
     "metadata": {
      "needs_background": "light"
     },
     "output_type": "display_data"
    }
   ],
   "source": [
    "# определим новый топ платформ и построим гистограммы продаж \n",
    "# возьмем в этот раз 20 топ продаж\n",
    "actual_platform_top = actual_platform_grouped[:20]['platform'].unique() \n",
    "fg, ax = plt.subplots(figsize=(15,5))\n",
    "filtered_games.query('platform in @actual_platform_top').pivot_table(index='year_of_release',\n",
    "                                                             values='total_sales',\n",
    "                                                             columns='platform',\n",
    "                                                             aggfunc='sum').plot(ax=ax, kind='bar', stacked=True)\n",
    "plt.title('Количество продаж по топ-платформам за актуальный период')\n",
    "plt.show()"
   ]
  },
  {
   "cell_type": "markdown",
   "metadata": {},
   "source": [
    "Как видим, в топ платформ вошла новая платформа - *PS4*, которая вышла в 2013 году.\\\n",
    "В тот же год появилась и платформа *Xbox One*, но как видно на гистограммах ее продажи меньше, чем продажи платформы *PS4*.\\\n",
    "Основываясь на средней продолжительности \"жизни\" платформы, у этих двух платформ есть еще два года."
   ]
  },
  {
   "cell_type": "markdown",
   "metadata": {},
   "source": [
    "**Построим график «ящик с усами» по глобальным продажам игр в разбивке по платформам.**"
   ]
  },
  {
   "cell_type": "code",
   "execution_count": 35,
   "metadata": {},
   "outputs": [
    {
     "data": {
      "image/png": "[encoded data removed]",
      "text/plain": [
       "<Figure size 1224x504 with 1 Axes>"
      ]
     },
     "metadata": {
      "needs_background": "light"
     },
     "output_type": "display_data"
    }
   ],
   "source": [
    "fg, ax = plt.subplots(figsize=(17,7))\n",
    "sns.boxplot(x='platform',\n",
    "            y='total_sales',\n",
    "            data=filtered_games.query('platform in @actual_platform_top'),\n",
    "            showfliers=False,\n",
    "            ax=ax)\n",
    "plt.grid(True)\n",
    "plt.title('Диаграммы размаха продаж по топ-платформам')\n",
    "plt.show()"
   ]
  },
  {
   "cell_type": "code",
   "execution_count": 36,
   "metadata": {},
   "outputs": [
    {
     "data": {
      "text/html": [
       "<div>\n",
       "<style scoped>\n",
       "    .dataframe tbody tr th:only-of-type {\n",
       "        vertical-align: middle;\n",
       "    }\n",
       "\n",
       "    .dataframe tbody tr th {\n",
       "        vertical-align: top;\n",
       "    }\n",
       "\n",
       "    .dataframe thead th {\n",
       "        text-align: right;\n",
       "    }\n",
       "</style>\n",
       "<table border=\"1\" class=\"dataframe\">\n",
       "  <thead>\n",
       "    <tr style=\"text-align: right;\">\n",
       "      <th></th>\n",
       "      <th>count_games</th>\n",
       "      <th>total_sales_median</th>\n",
       "    </tr>\n",
       "    <tr>\n",
       "      <th>platform</th>\n",
       "      <th></th>\n",
       "      <th></th>\n",
       "    </tr>\n",
       "  </thead>\n",
       "  <tbody>\n",
       "    <tr>\n",
       "      <td>PS3</td>\n",
       "      <td>889</td>\n",
       "      <td>0.23</td>\n",
       "    </tr>\n",
       "    <tr>\n",
       "      <td>X360</td>\n",
       "      <td>680</td>\n",
       "      <td>0.27</td>\n",
       "    </tr>\n",
       "    <tr>\n",
       "      <td>3DS</td>\n",
       "      <td>512</td>\n",
       "      <td>0.12</td>\n",
       "    </tr>\n",
       "    <tr>\n",
       "      <td>DS</td>\n",
       "      <td>507</td>\n",
       "      <td>0.10</td>\n",
       "    </tr>\n",
       "    <tr>\n",
       "      <td>Wii</td>\n",
       "      <td>450</td>\n",
       "      <td>0.18</td>\n",
       "    </tr>\n",
       "    <tr>\n",
       "      <td>PS4</td>\n",
       "      <td>392</td>\n",
       "      <td>0.20</td>\n",
       "    </tr>\n",
       "    <tr>\n",
       "      <td>XOne</td>\n",
       "      <td>247</td>\n",
       "      <td>0.22</td>\n",
       "    </tr>\n",
       "  </tbody>\n",
       "</table>\n",
       "</div>"
      ],
      "text/plain": [
       "          count_games  total_sales_median\n",
       "platform                                 \n",
       "PS3               889                0.23\n",
       "X360              680                0.27\n",
       "3DS               512                0.12\n",
       "DS                507                0.10\n",
       "Wii               450                0.18\n",
       "PS4               392                0.20\n",
       "XOne              247                0.22"
      ]
     },
     "execution_count": 36,
     "metadata": {},
     "output_type": "execute_result"
    }
   ],
   "source": [
    "# построим также таблицу количества выпущенных под платформу игр\n",
    "# в таблицу также добавим медианные продажи\n",
    "count_games = filtered_games.query('platform in @actual_platform_top').pivot_table(index='platform',\n",
    "                                                                     values=['total_sales'],\n",
    "                                                                     aggfunc=['count', 'median'])\n",
    "count_games.columns = ['count_games', 'total_sales_median']\n",
    "count_games.sort_values(by='count_games', ascending=False)"
   ]
  },
  {
   "cell_type": "markdown",
   "metadata": {},
   "source": [
    "Сделаем выводы по диаграммам и таблице. И график, и таблица подтверждают, что наибольшее медианное значение больше у *Xbox360*, несмотря на то, что игр для это платформы было выпущено меньше, чем для *PS3*. Такую же зависимость можно проследить и в случае платформ *XboxOne* и *PS4*: медиана продаж у первого больше, при этом количество игр меньше."
   ]
  },
  {
   "cell_type": "markdown",
   "metadata": {},
   "source": [
    "<a id='section3.2'></a>\n",
    "**Посмотрим, как влияют на продажи внутри одной популярной платформы отзывы пользователей и критиков.**\\\n",
    "Построим диаграмму рассеяния и посчитаем корреляцию между отзывами и продажами."
   ]
  },
  {
   "cell_type": "code",
   "execution_count": 37,
   "metadata": {},
   "outputs": [
    {
     "data": {
      "image/png": "[encoded data removed]",
      "text/plain": [
       "<Figure size 1296x2160 with 15 Axes>"
      ]
     },
     "metadata": {
      "needs_background": "light"
     },
     "output_type": "display_data"
    }
   ],
   "source": [
    "# сократим список топ-платформ и построим диаграммы-рассеивания сразу для всех платформ\n",
    "\n",
    "actual_platform_top = np.array(['X360', 'PS3', 'Wii', 'PS4', 'XOne'])\n",
    "n_rows = actual_platform_top.shape[0]\n",
    "n_cols = 3\n",
    "nfg, ax = plt.subplots(n_rows, n_cols, figsize=(18,30))\n",
    "for i, platform in enumerate(actual_platform_top):\n",
    "    data = filtered_games.query('platform==@platform')\n",
    "    sns.scatterplot(x='total_sales',\n",
    "                y='critic_score',\n",
    "                data=data, \n",
    "                ax=ax[i][0])\n",
    "    sns.scatterplot(x='total_sales',\n",
    "                y='user_score',\n",
    "                data=data,\n",
    "                ax=ax[i][1])\n",
    "    sns.scatterplot(x='user_score',\n",
    "                    y='critic_score',\n",
    "                    data=data,\n",
    "                    ax=ax[i][2])\n",
    "    ax[i][0].set_title('Диаграмма разброса между Critic_score и '+ platform)\n",
    "    ax[i][1].set_title('Диаграмма разброса между User_score и '+ platform)\n",
    "    ax[i][2].set_title('Диаграмма разброса между User_score и Critic_score')"
   ]
  },
  {
   "cell_type": "code",
   "execution_count": 38,
   "metadata": {},
   "outputs": [
    {
     "name": "stdout",
     "output_type": "stream",
     "text": [
      "Корреляция между оценками и продажами игр на X360:\n",
      "              total_sales  user_score  critic_score\n",
      "total_sales      1.000000    0.066035      0.340064\n",
      "user_score       0.066035    1.000000      0.597552\n",
      "critic_score     0.340064    0.597552      1.000000\n",
      "------\n",
      "Корреляция между оценками и продажами игр на PS3:\n",
      "              total_sales  user_score  critic_score\n",
      "total_sales      1.000000    0.065092      0.400594\n",
      "user_score       0.065092    1.000000      0.595259\n",
      "critic_score     0.400594    0.595259      1.000000\n",
      "------\n",
      "Корреляция между оценками и продажами игр на Wii:\n",
      "              total_sales  user_score  critic_score\n",
      "total_sales      1.000000    0.147160      0.310588\n",
      "user_score       0.147160    1.000000      0.471698\n",
      "critic_score     0.310588    0.471698      1.000000\n",
      "------\n",
      "Корреляция между оценками и продажами игр на PS4:\n",
      "              total_sales  user_score  critic_score\n",
      "total_sales      1.000000   -0.031957      0.406568\n",
      "user_score      -0.031957    1.000000      0.557654\n",
      "critic_score     0.406568    0.557654      1.000000\n",
      "------\n",
      "Корреляция между оценками и продажами игр на XOne:\n",
      "              total_sales  user_score  critic_score\n",
      "total_sales      1.000000   -0.068925      0.416998\n",
      "user_score      -0.068925    1.000000      0.472462\n",
      "critic_score     0.416998    0.472462      1.000000\n",
      "------\n"
     ]
    }
   ],
   "source": [
    "# посмотрим на корреляцию между оценками и продажами\n",
    "for platform in actual_platform_top:\n",
    "    print('Корреляция между оценками и продажами игр на {}:'.format(platform))\n",
    "    data = filtered_games.query('platform==@platform')\n",
    "    print(data[['total_sales', 'user_score', 'critic_score']].corr())\n",
    "    #print('Critic_score и Total_sales:', data['user_score'].corr(data['total_sales']))\n",
    "    #print('User_score и Total_sales:', data['total_sales'].corr(data['critic_score']))\n",
    "    print('------')"
   ]
  },
  {
   "cell_type": "code",
   "execution_count": 39,
   "metadata": {
    "scrolled": true
   },
   "outputs": [
    {
     "data": {
      "text/plain": [
       "-0.06892505328279414"
      ]
     },
     "execution_count": 39,
     "metadata": {},
     "output_type": "execute_result"
    }
   ],
   "source": [
    "data = filtered_games.query('platform==\"XOne\"') \n",
    "data['user_score'].corr(data['total_sales'])"
   ]
  },
  {
   "cell_type": "markdown",
   "metadata": {},
   "source": [
    "Как видно по диаграммам рассеивания, большинство объектов получает оценки выше 50%.\\\n",
    "По полученной корреляционной таблице видно, что продажи коррелируют с оценкой критиков, коэффициент корреляции колеблется между 0,3 до 0,4. При этом практически нулевая зависимость между продажами и оценкой пользователей.\\\n",
    "Также я дополнительно посмотрел на зависимость между оценками пользователей и критиков. Как видно по графикам и коэффициентам корреляции, оценки зависимы между собой достаточо уверенно."
   ]
  },
  {
   "cell_type": "markdown",
   "metadata": {},
   "source": [
    "<a id='section3.3'></a>\n",
    "**Посмотрим на общее распределение игр по жанрам.**"
   ]
  },
  {
   "cell_type": "code",
   "execution_count": 40,
   "metadata": {},
   "outputs": [
    {
     "data": {
      "text/html": [
       "<div>\n",
       "<style scoped>\n",
       "    .dataframe tbody tr th:only-of-type {\n",
       "        vertical-align: middle;\n",
       "    }\n",
       "\n",
       "    .dataframe tbody tr th {\n",
       "        vertical-align: top;\n",
       "    }\n",
       "\n",
       "    .dataframe thead th {\n",
       "        text-align: right;\n",
       "    }\n",
       "</style>\n",
       "<table border=\"1\" class=\"dataframe\">\n",
       "  <thead>\n",
       "    <tr style=\"text-align: right;\">\n",
       "      <th></th>\n",
       "      <th>games_count</th>\n",
       "      <th>total_sales_sum</th>\n",
       "    </tr>\n",
       "    <tr>\n",
       "      <th>genre</th>\n",
       "      <th></th>\n",
       "      <th></th>\n",
       "    </tr>\n",
       "  </thead>\n",
       "  <tbody>\n",
       "    <tr>\n",
       "      <td>Action</td>\n",
       "      <td>1495</td>\n",
       "      <td>673.09</td>\n",
       "    </tr>\n",
       "    <tr>\n",
       "      <td>Misc</td>\n",
       "      <td>576</td>\n",
       "      <td>234.56</td>\n",
       "    </tr>\n",
       "    <tr>\n",
       "      <td>Sports</td>\n",
       "      <td>575</td>\n",
       "      <td>328.39</td>\n",
       "    </tr>\n",
       "    <tr>\n",
       "      <td>Role-Playing</td>\n",
       "      <td>568</td>\n",
       "      <td>315.28</td>\n",
       "    </tr>\n",
       "    <tr>\n",
       "      <td>Adventure</td>\n",
       "      <td>563</td>\n",
       "      <td>61.00</td>\n",
       "    </tr>\n",
       "    <tr>\n",
       "      <td>Shooter</td>\n",
       "      <td>410</td>\n",
       "      <td>479.74</td>\n",
       "    </tr>\n",
       "    <tr>\n",
       "      <td>Racing</td>\n",
       "      <td>237</td>\n",
       "      <td>122.68</td>\n",
       "    </tr>\n",
       "    <tr>\n",
       "      <td>Simulation</td>\n",
       "      <td>217</td>\n",
       "      <td>71.75</td>\n",
       "    </tr>\n",
       "    <tr>\n",
       "      <td>Fighting</td>\n",
       "      <td>199</td>\n",
       "      <td>81.59</td>\n",
       "    </tr>\n",
       "    <tr>\n",
       "      <td>Strategy</td>\n",
       "      <td>170</td>\n",
       "      <td>35.84</td>\n",
       "    </tr>\n",
       "    <tr>\n",
       "      <td>Platform</td>\n",
       "      <td>153</td>\n",
       "      <td>119.72</td>\n",
       "    </tr>\n",
       "    <tr>\n",
       "      <td>Puzzle</td>\n",
       "      <td>114</td>\n",
       "      <td>20.60</td>\n",
       "    </tr>\n",
       "  </tbody>\n",
       "</table>\n",
       "</div>"
      ],
      "text/plain": [
       "              games_count  total_sales_sum\n",
       "genre                                     \n",
       "Action               1495           673.09\n",
       "Misc                  576           234.56\n",
       "Sports                575           328.39\n",
       "Role-Playing          568           315.28\n",
       "Adventure             563            61.00\n",
       "Shooter               410           479.74\n",
       "Racing                237           122.68\n",
       "Simulation            217            71.75\n",
       "Fighting              199            81.59\n",
       "Strategy              170            35.84\n",
       "Platform              153           119.72\n",
       "Puzzle                114            20.60"
      ]
     },
     "execution_count": 40,
     "metadata": {},
     "output_type": "execute_result"
    }
   ],
   "source": [
    "genre_grouped = filtered_games.pivot_table(index='genre',\n",
    "                                           values='total_sales',\n",
    "                                           aggfunc=['count', 'sum'])\n",
    "genre_grouped.columns = ['games_count', 'total_sales_sum']\n",
    "genre_grouped.sort_values(by='games_count', ascending=False)"
   ]
  },
  {
   "cell_type": "code",
   "execution_count": 41,
   "metadata": {},
   "outputs": [
    {
     "data": {
      "image/png": "[encoded data removed]",
      "text/plain": [
       "<Figure size 1080x360 with 2 Axes>"
      ]
     },
     "metadata": {
      "needs_background": "light"
     },
     "output_type": "display_data"
    }
   ],
   "source": [
    "fg, ax = plt.subplots(1, 2, figsize=(15,5))\n",
    "genre_grouped['total_sales_sum'].sort_values(ascending=True).plot(kind='bar',\n",
    "                                                                  ax=ax[0], \n",
    "                                                                  title='Распределение продаж по жанрам')\n",
    "genre_grouped['games_count'].sort_values(ascending=True).plot(kind='bar', \n",
    "                                                              ax=ax[1],\n",
    "                                                              title='Распределение количества игр по жанрам')\n",
    "plt.show()"
   ]
  },
  {
   "cell_type": "markdown",
   "metadata": {},
   "source": [
    "Очевидным лидером среди жанров игр является жанр `Action`, особенно это выделяется по количеству игр этого жанра.\\\n",
    "Также стоит заметить, что несмотря на то, что жанр `Shooter` не входит в топ-5 по количеству игр, он занимает вторую позицию по количеству продаж.\\\n",
    "Практически на одном уровне находятся продажи таких жанров, как `Misc, Sports, Role_playing, Adventure`.\\\n",
    "Самые низкие показатели у жанра `Puzzle`.\\\n",
    "К топу жанров, помимо жанра `Action`, можно отнести жанры `Shooter, Sports, Role-Playing, Misc`."
   ]
  },
  {
   "cell_type": "markdown",
   "metadata": {},
   "source": [
    "<a id='section4'></a>\n",
    "### Составим портрет пользователя каждого региона"
   ]
  },
  {
   "cell_type": "markdown",
   "metadata": {},
   "source": [
    "**Определим для пользователя каждого региона (NA, EU, JP) самые популярные платформы (топ-5).**"
   ]
  },
  {
   "cell_type": "code",
   "execution_count": 42,
   "metadata": {},
   "outputs": [
    {
     "data": {
      "text/html": [
       "<div>\n",
       "<style scoped>\n",
       "    .dataframe tbody tr th:only-of-type {\n",
       "        vertical-align: middle;\n",
       "    }\n",
       "\n",
       "    .dataframe tbody tr th {\n",
       "        vertical-align: top;\n",
       "    }\n",
       "\n",
       "    .dataframe thead th {\n",
       "        text-align: right;\n",
       "    }\n",
       "</style>\n",
       "<table border=\"1\" class=\"dataframe\">\n",
       "  <thead>\n",
       "    <tr style=\"text-align: right;\">\n",
       "      <th></th>\n",
       "      <th>eu_sales</th>\n",
       "      <th>jp_sales</th>\n",
       "      <th>na_sales</th>\n",
       "      <th>other_sales</th>\n",
       "    </tr>\n",
       "    <tr>\n",
       "      <th>platform</th>\n",
       "      <th></th>\n",
       "      <th></th>\n",
       "      <th></th>\n",
       "      <th></th>\n",
       "    </tr>\n",
       "  </thead>\n",
       "  <tbody>\n",
       "    <tr>\n",
       "      <td>3DS</td>\n",
       "      <td>0.072836</td>\n",
       "      <td>0.329750</td>\n",
       "      <td>0.073115</td>\n",
       "      <td>0.049611</td>\n",
       "    </tr>\n",
       "    <tr>\n",
       "      <td>DS</td>\n",
       "      <td>0.033357</td>\n",
       "      <td>0.091433</td>\n",
       "      <td>0.052777</td>\n",
       "      <td>0.030395</td>\n",
       "    </tr>\n",
       "    <tr>\n",
       "      <td>PC</td>\n",
       "      <td>0.081811</td>\n",
       "      <td>0.000000</td>\n",
       "      <td>0.034563</td>\n",
       "      <td>0.052602</td>\n",
       "    </tr>\n",
       "    <tr>\n",
       "      <td>PS2</td>\n",
       "      <td>0.001985</td>\n",
       "      <td>0.002622</td>\n",
       "      <td>0.002052</td>\n",
       "      <td>0.004860</td>\n",
       "    </tr>\n",
       "    <tr>\n",
       "      <td>PS3</td>\n",
       "      <td>0.253920</td>\n",
       "      <td>0.194206</td>\n",
       "      <td>0.202803</td>\n",
       "      <td>0.320136</td>\n",
       "    </tr>\n",
       "    <tr>\n",
       "      <td>PS4</td>\n",
       "      <td>0.167723</td>\n",
       "      <td>0.052304</td>\n",
       "      <td>0.096195</td>\n",
       "      <td>0.180761</td>\n",
       "    </tr>\n",
       "    <tr>\n",
       "      <td>PSP</td>\n",
       "      <td>0.009023</td>\n",
       "      <td>0.138297</td>\n",
       "      <td>0.008537</td>\n",
       "      <td>0.017235</td>\n",
       "    </tr>\n",
       "    <tr>\n",
       "      <td>PSV</td>\n",
       "      <td>0.015537</td>\n",
       "      <td>0.071574</td>\n",
       "      <td>0.011031</td>\n",
       "      <td>0.024039</td>\n",
       "    </tr>\n",
       "    <tr>\n",
       "      <td>Wii</td>\n",
       "      <td>0.078351</td>\n",
       "      <td>0.058170</td>\n",
       "      <td>0.107218</td>\n",
       "      <td>0.067706</td>\n",
       "    </tr>\n",
       "    <tr>\n",
       "      <td>WiiU</td>\n",
       "      <td>0.029874</td>\n",
       "      <td>0.042636</td>\n",
       "      <td>0.033705</td>\n",
       "      <td>0.022245</td>\n",
       "    </tr>\n",
       "    <tr>\n",
       "      <td>X360</td>\n",
       "      <td>0.194256</td>\n",
       "      <td>0.017893</td>\n",
       "      <td>0.295627</td>\n",
       "      <td>0.177060</td>\n",
       "    </tr>\n",
       "    <tr>\n",
       "      <td>XOne</td>\n",
       "      <td>0.061328</td>\n",
       "      <td>0.001114</td>\n",
       "      <td>0.082377</td>\n",
       "      <td>0.053350</td>\n",
       "    </tr>\n",
       "  </tbody>\n",
       "</table>\n",
       "</div>"
      ],
      "text/plain": [
       "          eu_sales  jp_sales  na_sales  other_sales\n",
       "platform                                           \n",
       "3DS       0.072836  0.329750  0.073115     0.049611\n",
       "DS        0.033357  0.091433  0.052777     0.030395\n",
       "PC        0.081811  0.000000  0.034563     0.052602\n",
       "PS2       0.001985  0.002622  0.002052     0.004860\n",
       "PS3       0.253920  0.194206  0.202803     0.320136\n",
       "PS4       0.167723  0.052304  0.096195     0.180761\n",
       "PSP       0.009023  0.138297  0.008537     0.017235\n",
       "PSV       0.015537  0.071574  0.011031     0.024039\n",
       "Wii       0.078351  0.058170  0.107218     0.067706\n",
       "WiiU      0.029874  0.042636  0.033705     0.022245\n",
       "X360      0.194256  0.017893  0.295627     0.177060\n",
       "XOne      0.061328  0.001114  0.082377     0.053350"
      ]
     },
     "execution_count": 42,
     "metadata": {},
     "output_type": "execute_result"
    },
    {
     "data": {
      "image/png": "[encoded data removed]",
      "text/plain": [
       "<Figure size 864x360 with 1 Axes>"
      ]
     },
     "metadata": {
      "needs_background": "light"
     },
     "output_type": "display_data"
    }
   ],
   "source": [
    "regions = ['na_sales', 'eu_sales', 'jp_sales', 'other_sales']\n",
    "regions_grouped = filtered_games.pivot_table(index='platform',\n",
    "                                            values=regions,\n",
    "                                            aggfunc='sum')\n",
    "for col in regions_grouped:\n",
    "    regions_grouped[col] = regions_grouped[col] / regions_grouped[col].sum()\n",
    "regions_grouped.plot(kind='bar', figsize=(12,5), title='Продажи по игровым платформам в Европе, Сев.Америке, Японии и \"Других регионах\"')\n",
    "regions_grouped"
   ]
  },
  {
   "cell_type": "code",
   "execution_count": 43,
   "metadata": {},
   "outputs": [
    {
     "data": {
      "text/html": [
       "<div>\n",
       "<style scoped>\n",
       "    .dataframe tbody tr th:only-of-type {\n",
       "        vertical-align: middle;\n",
       "    }\n",
       "\n",
       "    .dataframe tbody tr th {\n",
       "        vertical-align: top;\n",
       "    }\n",
       "\n",
       "    .dataframe thead th {\n",
       "        text-align: right;\n",
       "    }\n",
       "</style>\n",
       "<table border=\"1\" class=\"dataframe\">\n",
       "  <thead>\n",
       "    <tr style=\"text-align: right;\">\n",
       "      <th></th>\n",
       "      <th>na_sales</th>\n",
       "      <th>eu_sales</th>\n",
       "      <th>jp_sales</th>\n",
       "      <th>other_sales</th>\n",
       "    </tr>\n",
       "  </thead>\n",
       "  <tbody>\n",
       "    <tr>\n",
       "      <td>0</td>\n",
       "      <td>X360</td>\n",
       "      <td>PS3</td>\n",
       "      <td>3DS</td>\n",
       "      <td>PS3</td>\n",
       "    </tr>\n",
       "    <tr>\n",
       "      <td>1</td>\n",
       "      <td>PS3</td>\n",
       "      <td>X360</td>\n",
       "      <td>PS3</td>\n",
       "      <td>PS4</td>\n",
       "    </tr>\n",
       "    <tr>\n",
       "      <td>2</td>\n",
       "      <td>Wii</td>\n",
       "      <td>PS4</td>\n",
       "      <td>PSP</td>\n",
       "      <td>X360</td>\n",
       "    </tr>\n",
       "    <tr>\n",
       "      <td>3</td>\n",
       "      <td>PS4</td>\n",
       "      <td>PC</td>\n",
       "      <td>DS</td>\n",
       "      <td>Wii</td>\n",
       "    </tr>\n",
       "    <tr>\n",
       "      <td>4</td>\n",
       "      <td>XOne</td>\n",
       "      <td>Wii</td>\n",
       "      <td>PSV</td>\n",
       "      <td>XOne</td>\n",
       "    </tr>\n",
       "  </tbody>\n",
       "</table>\n",
       "</div>"
      ],
      "text/plain": [
       "  na_sales eu_sales jp_sales other_sales\n",
       "0     X360      PS3      3DS         PS3\n",
       "1      PS3     X360      PS3         PS4\n",
       "2      Wii      PS4      PSP        X360\n",
       "3      PS4       PC       DS         Wii\n",
       "4     XOne      Wii      PSV        XOne"
      ]
     },
     "execution_count": 43,
     "metadata": {},
     "output_type": "execute_result"
    }
   ],
   "source": [
    "# теперь определим популярные платформы для каждого региона\n",
    "regions_grouped = regions_grouped.reset_index()\n",
    "platform_top_region = {}\n",
    "for region in regions:\n",
    "    top_five = regions_grouped.sort_values(by=region, ascending=False)['platform'].unique()[:5]\n",
    "    platform_top_region[region] = top_five\n",
    "pd.DataFrame(platform_top_region)"
   ]
  },
  {
   "cell_type": "markdown",
   "metadata": {},
   "source": [
    "Как видно по итоговой таблице, для всех регионов, кроме Японии, топ платформ сходится с общим топом, это игровые консоли `Xbox360, PS3, Wii, PS4, XboxOne`.\\\n",
    "В Японии же большую популярность имеют портативные игровые консоли: 4 позиции из топ-5 заняли приставки именного такого вида. Среди обычных консолей в топ вошла только `PS3`.\n",
    "Если смотреть в разрезе платформ, то `PS3` для каждого из регионов занимет не менее 20% рынка, в особенности для Европы и \"других регионов\".\\\n",
    "В Японии более 30% рынка продаж занимает платформа `Nintendo 3DS`, при этом в данном регионе `PC` имеет нулевую долю (возможно, это связано с тем, что не было данных по продажам игр для `PC` в Японии).\\\n",
    "Что касается Северной Америки, то чуть меньше 30% от рынка продаж занимает игровая консоль `Xbox360`.\\\n",
    "Во всех регионах практически нулевые доли от всего рынка имеет приставка `PS2`."
   ]
  },
  {
   "cell_type": "markdown",
   "metadata": {},
   "source": [
    "**Определим для пользователя каждого региона (NA, EU, JP) самые популярные жанры (топ-5).** "
   ]
  },
  {
   "cell_type": "code",
   "execution_count": 44,
   "metadata": {},
   "outputs": [
    {
     "data": {
      "text/html": [
       "<div>\n",
       "<style scoped>\n",
       "    .dataframe tbody tr th:only-of-type {\n",
       "        vertical-align: middle;\n",
       "    }\n",
       "\n",
       "    .dataframe tbody tr th {\n",
       "        vertical-align: top;\n",
       "    }\n",
       "\n",
       "    .dataframe thead th {\n",
       "        text-align: right;\n",
       "    }\n",
       "</style>\n",
       "<table border=\"1\" class=\"dataframe\">\n",
       "  <thead>\n",
       "    <tr style=\"text-align: right;\">\n",
       "      <th></th>\n",
       "      <th>eu_sales</th>\n",
       "      <th>jp_sales</th>\n",
       "      <th>na_sales</th>\n",
       "      <th>other_sales</th>\n",
       "    </tr>\n",
       "    <tr>\n",
       "      <th>genre</th>\n",
       "      <th></th>\n",
       "      <th></th>\n",
       "      <th></th>\n",
       "      <th></th>\n",
       "    </tr>\n",
       "  </thead>\n",
       "  <tbody>\n",
       "    <tr>\n",
       "      <td>Action</td>\n",
       "      <td>0.277731</td>\n",
       "      <td>0.236613</td>\n",
       "      <td>0.257110</td>\n",
       "      <td>0.286451</td>\n",
       "    </tr>\n",
       "    <tr>\n",
       "      <td>Adventure</td>\n",
       "      <td>0.022444</td>\n",
       "      <td>0.051353</td>\n",
       "      <td>0.018436</td>\n",
       "      <td>0.020974</td>\n",
       "    </tr>\n",
       "    <tr>\n",
       "      <td>Fighting</td>\n",
       "      <td>0.024168</td>\n",
       "      <td>0.045553</td>\n",
       "      <td>0.034545</td>\n",
       "      <td>0.031068</td>\n",
       "    </tr>\n",
       "    <tr>\n",
       "      <td>Misc</td>\n",
       "      <td>0.078565</td>\n",
       "      <td>0.079603</td>\n",
       "      <td>0.109518</td>\n",
       "      <td>0.076193</td>\n",
       "    </tr>\n",
       "    <tr>\n",
       "      <td>Platform</td>\n",
       "      <td>0.045530</td>\n",
       "      <td>0.051812</td>\n",
       "      <td>0.048566</td>\n",
       "      <td>0.040040</td>\n",
       "    </tr>\n",
       "    <tr>\n",
       "      <td>Puzzle</td>\n",
       "      <td>0.007822</td>\n",
       "      <td>0.011142</td>\n",
       "      <td>0.008050</td>\n",
       "      <td>0.005683</td>\n",
       "    </tr>\n",
       "    <tr>\n",
       "      <td>Racing</td>\n",
       "      <td>0.065085</td>\n",
       "      <td>0.021892</td>\n",
       "      <td>0.040791</td>\n",
       "      <td>0.056602</td>\n",
       "    </tr>\n",
       "    <tr>\n",
       "      <td>Role-Playing</td>\n",
       "      <td>0.089728</td>\n",
       "      <td>0.339320</td>\n",
       "      <td>0.099123</td>\n",
       "      <td>0.090511</td>\n",
       "    </tr>\n",
       "    <tr>\n",
       "      <td>Shooter</td>\n",
       "      <td>0.203814</td>\n",
       "      <td>0.046012</td>\n",
       "      <td>0.210074</td>\n",
       "      <td>0.212278</td>\n",
       "    </tr>\n",
       "    <tr>\n",
       "      <td>Simulation</td>\n",
       "      <td>0.031371</td>\n",
       "      <td>0.043587</td>\n",
       "      <td>0.023346</td>\n",
       "      <td>0.021198</td>\n",
       "    </tr>\n",
       "    <tr>\n",
       "      <td>Sports</td>\n",
       "      <td>0.138895</td>\n",
       "      <td>0.050829</td>\n",
       "      <td>0.138720</td>\n",
       "      <td>0.146665</td>\n",
       "    </tr>\n",
       "    <tr>\n",
       "      <td>Strategy</td>\n",
       "      <td>0.014848</td>\n",
       "      <td>0.022285</td>\n",
       "      <td>0.011721</td>\n",
       "      <td>0.012337</td>\n",
       "    </tr>\n",
       "  </tbody>\n",
       "</table>\n",
       "</div>"
      ],
      "text/plain": [
       "              eu_sales  jp_sales  na_sales  other_sales\n",
       "genre                                                  \n",
       "Action        0.277731  0.236613  0.257110     0.286451\n",
       "Adventure     0.022444  0.051353  0.018436     0.020974\n",
       "Fighting      0.024168  0.045553  0.034545     0.031068\n",
       "Misc          0.078565  0.079603  0.109518     0.076193\n",
       "Platform      0.045530  0.051812  0.048566     0.040040\n",
       "Puzzle        0.007822  0.011142  0.008050     0.005683\n",
       "Racing        0.065085  0.021892  0.040791     0.056602\n",
       "Role-Playing  0.089728  0.339320  0.099123     0.090511\n",
       "Shooter       0.203814  0.046012  0.210074     0.212278\n",
       "Simulation    0.031371  0.043587  0.023346     0.021198\n",
       "Sports        0.138895  0.050829  0.138720     0.146665\n",
       "Strategy      0.014848  0.022285  0.011721     0.012337"
      ]
     },
     "execution_count": 44,
     "metadata": {},
     "output_type": "execute_result"
    },
    {
     "data": {
      "image/png": "[encoded data removed]",
      "text/plain": [
       "<Figure size 864x360 with 1 Axes>"
      ]
     },
     "metadata": {
      "needs_background": "light"
     },
     "output_type": "display_data"
    }
   ],
   "source": [
    "genre_grouped_region = filtered_games.pivot_table(index='genre',\n",
    "                                                 values=regions,\n",
    "                                                 aggfunc='sum')\n",
    "for region in regions:\n",
    "    genre_grouped_region[region] = genre_grouped_region[region] / genre_grouped_region[region].sum() \n",
    "genre_grouped_region.plot(kind='bar', figsize=(12, 5), title='Продажи по игровым жанрам в Европе, Сев.Америке, Японии и \"Других регионах\"')\n",
    "genre_grouped_region"
   ]
  },
  {
   "cell_type": "code",
   "execution_count": 45,
   "metadata": {},
   "outputs": [
    {
     "data": {
      "text/html": [
       "<div>\n",
       "<style scoped>\n",
       "    .dataframe tbody tr th:only-of-type {\n",
       "        vertical-align: middle;\n",
       "    }\n",
       "\n",
       "    .dataframe tbody tr th {\n",
       "        vertical-align: top;\n",
       "    }\n",
       "\n",
       "    .dataframe thead th {\n",
       "        text-align: right;\n",
       "    }\n",
       "</style>\n",
       "<table border=\"1\" class=\"dataframe\">\n",
       "  <thead>\n",
       "    <tr style=\"text-align: right;\">\n",
       "      <th></th>\n",
       "      <th>na_sales</th>\n",
       "      <th>eu_sales</th>\n",
       "      <th>jp_sales</th>\n",
       "      <th>other_sales</th>\n",
       "    </tr>\n",
       "  </thead>\n",
       "  <tbody>\n",
       "    <tr>\n",
       "      <td>0</td>\n",
       "      <td>Action</td>\n",
       "      <td>Action</td>\n",
       "      <td>Role-Playing</td>\n",
       "      <td>Action</td>\n",
       "    </tr>\n",
       "    <tr>\n",
       "      <td>1</td>\n",
       "      <td>Shooter</td>\n",
       "      <td>Shooter</td>\n",
       "      <td>Action</td>\n",
       "      <td>Shooter</td>\n",
       "    </tr>\n",
       "    <tr>\n",
       "      <td>2</td>\n",
       "      <td>Sports</td>\n",
       "      <td>Sports</td>\n",
       "      <td>Misc</td>\n",
       "      <td>Sports</td>\n",
       "    </tr>\n",
       "    <tr>\n",
       "      <td>3</td>\n",
       "      <td>Misc</td>\n",
       "      <td>Role-Playing</td>\n",
       "      <td>Platform</td>\n",
       "      <td>Role-Playing</td>\n",
       "    </tr>\n",
       "    <tr>\n",
       "      <td>4</td>\n",
       "      <td>Role-Playing</td>\n",
       "      <td>Misc</td>\n",
       "      <td>Adventure</td>\n",
       "      <td>Misc</td>\n",
       "    </tr>\n",
       "  </tbody>\n",
       "</table>\n",
       "</div>"
      ],
      "text/plain": [
       "       na_sales      eu_sales      jp_sales   other_sales\n",
       "0        Action        Action  Role-Playing        Action\n",
       "1       Shooter       Shooter        Action       Shooter\n",
       "2        Sports        Sports          Misc        Sports\n",
       "3          Misc  Role-Playing      Platform  Role-Playing\n",
       "4  Role-Playing          Misc     Adventure          Misc"
      ]
     },
     "execution_count": 45,
     "metadata": {},
     "output_type": "execute_result"
    }
   ],
   "source": [
    "# теперь определим популярные жанры для каждого региона\n",
    "genre_grouped_region = genre_grouped_region.reset_index()\n",
    "genre_top_region = {}\n",
    "for region in regions:\n",
    "    top_five = genre_grouped_region.sort_values(by=region, ascending=False)['genre'].unique()[:5]\n",
    "    genre_top_region[region] = top_five\n",
    "pd.DataFrame(genre_top_region)"
   ]
  },
  {
   "cell_type": "markdown",
   "metadata": {},
   "source": [
    "Аналогично с предыдущим пунктом, топ жанров по регионам совпадает с общим топом.\\\n",
    "В частности, можно заметить, что топ по Европе и \"другим регионам\" абсолютно идентичен.\\\n",
    "Северо-американский топ жанров практически такой же, как и европейский, за исключением разных позиций `Misc` и `Role-Playing`.\\\n",
    "Японский топ немного отличается, но также имеет общие жанры с остальными регионами.\\\n",
    "Если смотреть на доли жанров на игровом рынке каждого региона, то большАя доля рынка каждого региона у жанра `Action`, от 20% до 30%.\\\n",
    "На японском рынке абсолютное лидерство держит жанр `Role-Playing`, который занимает чуть меньше 35% рынка.\\\n",
    "В Европе, Северной Америке и \"других регионах\" примерно 70% рынка забрали жанры `Action, Shooter` и `Sports`."
   ]
  },
  {
   "cell_type": "markdown",
   "metadata": {},
   "source": [
    "**Определим влияет ли рейтинг ESRB на продажи в отдельном регионе.**"
   ]
  },
  {
   "cell_type": "code",
   "execution_count": 46,
   "metadata": {},
   "outputs": [
    {
     "data": {
      "text/html": [
       "<div>\n",
       "<style scoped>\n",
       "    .dataframe tbody tr th:only-of-type {\n",
       "        vertical-align: middle;\n",
       "    }\n",
       "\n",
       "    .dataframe tbody tr th {\n",
       "        vertical-align: top;\n",
       "    }\n",
       "\n",
       "    .dataframe thead th {\n",
       "        text-align: right;\n",
       "    }\n",
       "</style>\n",
       "<table border=\"1\" class=\"dataframe\">\n",
       "  <thead>\n",
       "    <tr style=\"text-align: right;\">\n",
       "      <th></th>\n",
       "      <th>eu_sales</th>\n",
       "      <th>jp_sales</th>\n",
       "      <th>na_sales</th>\n",
       "      <th>other_sales</th>\n",
       "    </tr>\n",
       "    <tr>\n",
       "      <th>rating</th>\n",
       "      <th></th>\n",
       "      <th></th>\n",
       "      <th></th>\n",
       "      <th></th>\n",
       "    </tr>\n",
       "  </thead>\n",
       "  <tbody>\n",
       "    <tr>\n",
       "      <td>E</td>\n",
       "      <td>0.234591</td>\n",
       "      <td>0.156879</td>\n",
       "      <td>0.239869</td>\n",
       "      <td>0.224465</td>\n",
       "    </tr>\n",
       "    <tr>\n",
       "      <td>E10+</td>\n",
       "      <td>0.118020</td>\n",
       "      <td>0.043324</td>\n",
       "      <td>0.140993</td>\n",
       "      <td>0.116457</td>\n",
       "    </tr>\n",
       "    <tr>\n",
       "      <td>EC</td>\n",
       "      <td>0.000000</td>\n",
       "      <td>0.000000</td>\n",
       "      <td>0.001000</td>\n",
       "      <td>0.000262</td>\n",
       "    </tr>\n",
       "    <tr>\n",
       "      <td>M</td>\n",
       "      <td>0.347167</td>\n",
       "      <td>0.099790</td>\n",
       "      <td>0.338125</td>\n",
       "      <td>0.362569</td>\n",
       "    </tr>\n",
       "    <tr>\n",
       "      <td>RP</td>\n",
       "      <td>0.000036</td>\n",
       "      <td>0.000000</td>\n",
       "      <td>0.000000</td>\n",
       "      <td>0.000037</td>\n",
       "    </tr>\n",
       "    <tr>\n",
       "      <td>T</td>\n",
       "      <td>0.134425</td>\n",
       "      <td>0.138002</td>\n",
       "      <td>0.142258</td>\n",
       "      <td>0.144758</td>\n",
       "    </tr>\n",
       "    <tr>\n",
       "      <td>notdef</td>\n",
       "      <td>0.165761</td>\n",
       "      <td>0.562004</td>\n",
       "      <td>0.137755</td>\n",
       "      <td>0.151451</td>\n",
       "    </tr>\n",
       "  </tbody>\n",
       "</table>\n",
       "</div>"
      ],
      "text/plain": [
       "        eu_sales  jp_sales  na_sales  other_sales\n",
       "rating                                           \n",
       "E       0.234591  0.156879  0.239869     0.224465\n",
       "E10+    0.118020  0.043324  0.140993     0.116457\n",
       "EC      0.000000  0.000000  0.001000     0.000262\n",
       "M       0.347167  0.099790  0.338125     0.362569\n",
       "RP      0.000036  0.000000  0.000000     0.000037\n",
       "T       0.134425  0.138002  0.142258     0.144758\n",
       "notdef  0.165761  0.562004  0.137755     0.151451"
      ]
     },
     "execution_count": 46,
     "metadata": {},
     "output_type": "execute_result"
    },
    {
     "data": {
      "image/png": "[encoded data removed]",
      "text/plain": [
       "<Figure size 864x360 with 1 Axes>"
      ]
     },
     "metadata": {
      "needs_background": "light"
     },
     "output_type": "display_data"
    }
   ],
   "source": [
    "rating_grouped_region = filtered_games.pivot_table(index='rating',\n",
    "                                                 values=regions,\n",
    "                                                 aggfunc='sum')\n",
    "for region in regions:\n",
    "    rating_grouped_region[region] = rating_grouped_region[region] / rating_grouped_region[region].sum()\n",
    "rating_grouped_region.plot(kind='bar', figsize=(12, 5), title='Продажи по игровым категориям в Европе, Сев.Америке, Японии и \"Других регионах\"')\n",
    "rating_grouped_region"
   ]
  },
  {
   "cell_type": "markdown",
   "metadata": {},
   "source": [
    "Основываясь на графике выше, можно сделать вывод, что самые большие доли на рынке продаж в Европе, Сев.Америке и \"других регионах\" имеют игры категории `M (Mature)`, при этом в Японии игры данной категории занимают около 10%.\\\n",
    "Также отметим, что 56% японского рынка занимают игры, по которым нет информации о возрастной категории.\\\n",
    "На мой взгляд, рейтинг *ESRB* влияет на продажи в регионах, так как возрастная категория зависит от жанра игры, а так как первые 2 позиции в топе жанров в Европе, Северной Америке и \"других регионах\" занимают жанры `Action` и `Shooter`, то соответственно большинство из них имеют категорию `M`."
   ]
  },
  {
   "cell_type": "markdown",
   "metadata": {},
   "source": [
    "Подытоживая проведенный анализ по регионам, можно сказать, что рынок (портрет пользователя) Европы, Северной Америки и \"других регионов\" похож между собой, об этом говорит и топ игровых консолей, и топ жанров, и влияние возрастной категории. То есть предпочтения пользователей данных регионов очень похожи.\\\n",
    "Что касается Японии, то ее рынок немного отличается от игровых рынков других регионов. Все-таки Восток - дело тонкое)"
   ]
  },
  {
   "cell_type": "markdown",
   "metadata": {},
   "source": [
    "<a id='section5'></a>\n",
    "### Проверим гипотезы"
   ]
  },
  {
   "cell_type": "markdown",
   "metadata": {},
   "source": [
    "<a id='section5.1'></a>\n",
    "**1. Проверим, что средние пользовательские рейтинги платформ Xbox One и PC одинаковые.**\n",
    "\n",
    "**Нулевая гипотеза:** средние пользовательские рейтинги платформ Xbox One и PC равны.\\\n",
    "**Альтернативная гипотеза:** средние пользовательские рейтинги платформ Xbox One и PC различаются."
   ]
  },
  {
   "cell_type": "code",
   "execution_count": 47,
   "metadata": {},
   "outputs": [
    {
     "name": "stdout",
     "output_type": "stream",
     "text": [
      "Отличие значимо.\n",
      "p-значение: 0.9801634129117883\n",
      "Не получилось отвергнуть нулевую гипотезу\n"
     ]
    }
   ],
   "source": [
    "# отфильтруем данные, будем смотртеть оценки за актуальное время\n",
    "\n",
    "xbox_data = filtered_games.query('platform==\"XOne\"').dropna(subset=['user_score'])\n",
    "pc_data = filtered_games.query('platform==\"PC\"').dropna(subset=['user_score'])\n",
    "\n",
    "# для начала проведем оценку дисперсий выборок, чтобы верно подобрать параметр equal_var\n",
    "var_1 = xbox_data['user_score'].var()\n",
    "var_2 = pc_data['user_score'].var()\n",
    "diff = abs(var_1 - var_2) / var_1 * 100\n",
    "eq_var = True\n",
    "if diff > 5:\n",
    "    eq_var = False\n",
    "    print('Отличие значимо.')\n",
    "else:\n",
    "    print('Отличие незначительно.')\n",
    "\n",
    "# возьмем уровень стат.значимости за 5%\n",
    "alpha = .05 # критический уровень статистической значимости\n",
    "            # если p-value окажется меньше него - отвергнем гипотезу\n",
    "results = st.ttest_ind(\n",
    "    xbox_data['user_score'], \n",
    "    pc_data['user_score'],\n",
    "    equal_var = eq_var)\n",
    "\n",
    "print('p-значение:', results.pvalue)\n",
    "\n",
    "if (results.pvalue < alpha):\n",
    "    print(\"Отвергаем нулевую гипотезу\")\n",
    "else:\n",
    "    print(\"Не получилось отвергнуть нулевую гипотезу\")"
   ]
  },
  {
   "cell_type": "markdown",
   "metadata": {},
   "source": [
    "**Вывод:** нулевую гипотезу отвергнуть не удалось, поэтому средние пользовательские рейтинги платформ Xbox One и PC равны.\\\n",
    "В данном случае гипотеза двусторонняя, так как нам не важно меньше ли среднее какой-либо величины или больше, важно только то, что оно равно или различается. Нулевая гипотеза всегда формируется о равенстве средних, альтернативная - наоборот."
   ]
  },
  {
   "cell_type": "markdown",
   "metadata": {},
   "source": [
    "<a id='section5.2'></a>\n",
    "**2. Проверим, что средние пользовательские рейтинги жанров Action и Sports разные.**\n",
    "\n",
    "**Нулевая гипотеза:** средние пользовательские рейтинги жанров Action и Sports равны.\\\n",
    "**Альтернативная гипотеза:** средние пользовательские рейтинги жанров Action и Sports разные."
   ]
  },
  {
   "cell_type": "code",
   "execution_count": 48,
   "metadata": {},
   "outputs": [
    {
     "name": "stdout",
     "output_type": "stream",
     "text": [
      "Отличие значимо.\n",
      "p-значение: 1.4516152467844418e-15\n",
      "Отвергаем нулевую гипотезу\n"
     ]
    }
   ],
   "source": [
    "# отфильтруем данные\n",
    "\n",
    "action_data = filtered_games.query('genre==\"Action\"').dropna(subset=['user_score'])\n",
    "sports_data = filtered_games.query('genre==\"Sports\"').dropna(subset=['user_score'])\n",
    "\n",
    "# для начала проведем оценку дисперсий выборок, чтобы верно подобрать параметр equal_var\n",
    "var_1 = action_data['user_score'].var()\n",
    "var_2 = sports_data['user_score'].var()\n",
    "diff = abs(var_1 - var_2) / var_1 * 100\n",
    "eq_var = True\n",
    "if diff > 5:\n",
    "    eq_var = False\n",
    "    print('Отличие значимо.')\n",
    "else:\n",
    "    print('Отличие незначительно.')\n",
    "\n",
    "# возьмем уровень стат.значимости за 5%\n",
    "alpha = .05 # критический уровень статистической значимости\n",
    "            # если p-value окажется меньше него - отвергнем гипотезу\n",
    "results = st.ttest_ind(\n",
    "    action_data['user_score'], \n",
    "    sports_data['user_score'],\n",
    "    equal_var=eq_var)\n",
    "\n",
    "print('p-значение:', results.pvalue)\n",
    "\n",
    "if (results.pvalue < alpha):\n",
    "    print(\"Отвергаем нулевую гипотезу\")\n",
    "else:\n",
    "    print(\"Не получилось отвергнуть нулевую гипотезу\")"
   ]
  },
  {
   "cell_type": "markdown",
   "metadata": {},
   "source": [
    "**Вывод:** отвергаем нулевую гипотезу, принимаем альтернативную, то есть средние пользовательские рейтинги жанров Action и Sports разные.\\\n",
    "В данном случае гипотеза также двусторонняя."
   ]
  },
  {
   "cell_type": "markdown",
   "metadata": {},
   "source": [
    "<a id='section6'></a>\n",
    "### Общий вывод"
   ]
  },
  {
   "cell_type": "markdown",
   "metadata": {},
   "source": [
    "В конечном итоге мною были проанализированы данные о продажах игр, оценках пользователей и экспертов, жанрах и платформах.\n",
    "На первом этапе был проведен первичный взгляд на данные. Далее они были обработаны. Так было выявлено, что пропущена практически половина данных об оценках пользователей и критиков, а также данные о возрастных категориях. Также у признаков *critic_score, user_score* и *year_of_release* был заменен тип данных на соответствующий.\\\n",
    "На следующем этапе было определено, что для исследования необходимы данные только за определенный период. Также было решено рассматривать только самые популярные платформы, такие как `PS3, PS4, Wii, Xbox360, XboxOne`. Так определено, что платформа \"живет\" примерно 10 лет, однако, они медленно \"умирают\", поэтому были отрезаны данные за ненужный период и в следствие определен а средняя продолжительность существования платформы - 6 лет.\\\n",
    "Так как нам необходимо делать прогноз на будущее, то лучшим решением представилось взять данные только за актуальный период, то есть с 2010 по 2016 года.\\\n",
    "Лидерами среди игровых консолей за актуальный период стали `PS3` и `Xbox360`.\\\n",
    "Далее было рассмотрено: влияют на продажи внутри одной популярной платформы отзывы пользователей и критиков. Так, определено, что продажи и оценки критиков зависимы между собой.\\\n",
    "Затем были рассмотрены жанры игр. Абсолютным лидером среди жанров стал `Action` (и по количеству игр, и по количеству продаж). В топ также вошли жанры `Shooter, Sports, Misc, Role-Playing`.\\\n",
    "На следующем этапе был проведен анализ продаж по регионам и их зависимость от других факторов. Было выявлено, что показатели *Европы, Северной Америки и отдельной категории \"другие регионы\"* очень схожи между собой. Только Япония отличается от всех остальных: это касается и жанров, и платформ, и возрастных категорий. Было замечено, что большой популярностью на японском рынке пользуются портативные игровые приставки (*3DS, DS, PSP, PSV*).\\\n",
    "На последнем этапе были проверены две гипотезы, в следствие чего принято, что средние пользовательские рейтинги платформ Xbox One и PC равны, а также, что средние пользовательские рейтинги жанров Action и Sports разные.\\\n",
    "В итоге, мною были найдены следующие определяющие успешность игры закономерности:\\\n",
    "- **платформа:** для того, чтобы игра была успешной она должна быть разработана в первую очередь под платформы Playstaytion и Xbox. На данный момент это два лидера среди стационарных игровых консолей. Чтобы обрести успех на японском рынке, необходимо, учесть, что там популярны переносные игровые приставки.\n",
    "- **жанр:** игра также будет иметь шанс на успех, если ее жанр будет `Action`. На данный момент игры именно этого жанра имеют высокую популярность среди пользователей. Также определенный успех могут иметь игры жанра `Shooter, Sports, Misc` или `Role_Playing`.\n",
    "- **оценки пользователей и критиков:** по проведенному анализу было замечено, что оценки критиков могут повлиять на успешность игры, точнее: чем выше оценки критиков, тем лучше для игры.\n",
    "- **возрастная категория:** по моему мнению, данный фактор не слишком влияет на успешность игры, хотя было замечено, что игры категории `M` занимают долю игрового рынка больше всего. Мне кажется, что данный критерий необходимо изучить более детально."
   ]
  }
 ],
 "metadata": {
  "kernelspec": {
   "display_name": "Python 3",
   "language": "python",
   "name": "python3"
  },
  "language_info": {
   "codemirror_mode": {
    "name": "ipython",
    "version": 3
   },
   "file_extension": ".py",
   "mimetype": "text/x-python",
   "name": "python",
   "nbconvert_exporter": "python",
   "pygments_lexer": "ipython3",
   "version": "3.7.6"
  }
 },
 "nbformat": 4,
 "nbformat_minor": 2
}
